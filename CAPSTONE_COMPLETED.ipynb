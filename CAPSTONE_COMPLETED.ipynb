{
  "nbformat": 4,
  "nbformat_minor": 0,
  "metadata": {
    "colab": {
      "provenance": []
    },
    "kernelspec": {
      "name": "python3",
      "display_name": "Python 3"
    },
    "language_info": {
      "name": "python"
    }
  },
  "cells": [
    {
      "cell_type": "markdown",
      "source": [
        "\n",
        "PROJECT DESCRIPTION\n",
        "\n",
        "BANKS ARE RECIEVING LOT OF APPLICATIONS FOR CREDIT CARDS ON DAILY BASIS,BUT MOST OF THEM GOT REJECTED FOR MANY REASONS LIKE LOW INCOME LEVELS OF AN INDIVIDUAL,HIGH LOAN BALANCES,BAD CREDIT SCORES,OCCUPATION.MANUALLY ANALYZING THESE APPLICATIONS IS ERROR PRONE AND TIME CONSUMING.FORTUNATELY, THIS ENTIRE PROCESS CAN BE AUTOMATED WITH POWER OF MACHINE LEARNING,SO WE WILL BUILD AN AUTOMATIC CREDIT CARD APPROVAL PREDICTOR USING MACHINE LEARNING TECHNIQUE"
      ],
      "metadata": {
        "id": "2-2D8RpfdeB1"
      }
    },
    {
      "cell_type": "markdown",
      "source": [
        "IMPORTING ALL THE ESSENTIAL LIBRARIES THAT WE WANT TO DO EXPLORATORY DATA ANALYSIS"
      ],
      "metadata": {
        "id": "DMW2ef6Zdka5"
      }
    },
    {
      "cell_type": "code",
      "source": [
        "import numpy as np\n",
        "import pandas as pd\n",
        "import matplotlib.pyplot as plt\n",
        "import seaborn as sns\n",
        "import missingno as msno"
      ],
      "metadata": {
        "id": "B53CacKGdk47"
      },
      "execution_count": 219,
      "outputs": []
    },
    {
      "cell_type": "code",
      "source": [
        "data_file_1 = pd.read_csv(\"/content/Credit_card.csv\")"
      ],
      "metadata": {
        "id": "rVyiYMZaduQr"
      },
      "execution_count": 220,
      "outputs": []
    },
    {
      "cell_type": "code",
      "source": [
        "data_file_2 = pd.read_csv(\"/content/Credit_card_label.csv\")"
      ],
      "metadata": {
        "id": "2-FQOQytdwq4"
      },
      "execution_count": 221,
      "outputs": []
    },
    {
      "cell_type": "markdown",
      "source": [
        "BASIC EXPLORATION OF THE DATA"
      ],
      "metadata": {
        "id": "yJf_K3jSd1Ni"
      }
    },
    {
      "cell_type": "code",
      "source": [
        "data_file_1.head(4)"
      ],
      "metadata": {
        "colab": {
          "base_uri": "https://localhost:8080/",
          "height": 308
        },
        "id": "Bf1RlzIkd1pR",
        "outputId": "537544dd-83b3-4515-f00f-53f0c16d8013"
      },
      "execution_count": 222,
      "outputs": [
        {
          "output_type": "execute_result",
          "data": {
            "text/plain": [
              "    Ind_ID GENDER Car_Owner Propert_Owner  CHILDREN  Annual_income  \\\n",
              "0  5008827      M         Y             Y         0       180000.0   \n",
              "1  5009744      F         Y             N         0       315000.0   \n",
              "2  5009746      F         Y             N         0       315000.0   \n",
              "3  5009749      F         Y             N         0            NaN   \n",
              "\n",
              "            Type_Income         EDUCATION Marital_status       Housing_type  \\\n",
              "0             Pensioner  Higher education        Married  House / apartment   \n",
              "1  Commercial associate  Higher education        Married  House / apartment   \n",
              "2  Commercial associate  Higher education        Married  House / apartment   \n",
              "3  Commercial associate  Higher education        Married  House / apartment   \n",
              "\n",
              "   Birthday_count  Employed_days  Mobile_phone  Work_Phone  Phone  EMAIL_ID  \\\n",
              "0        -18772.0         365243             1           0      0         0   \n",
              "1        -13557.0           -586             1           1      1         0   \n",
              "2             NaN           -586             1           1      1         0   \n",
              "3        -13557.0           -586             1           1      1         0   \n",
              "\n",
              "  Type_Occupation  Family_Members  \n",
              "0             NaN               2  \n",
              "1             NaN               2  \n",
              "2             NaN               2  \n",
              "3             NaN               2  "
            ],
            "text/html": [
              "\n",
              "  <div id=\"df-4dbf6ca7-211c-443c-aca4-c0f6d151280d\">\n",
              "    <div class=\"colab-df-container\">\n",
              "      <div>\n",
              "<style scoped>\n",
              "    .dataframe tbody tr th:only-of-type {\n",
              "        vertical-align: middle;\n",
              "    }\n",
              "\n",
              "    .dataframe tbody tr th {\n",
              "        vertical-align: top;\n",
              "    }\n",
              "\n",
              "    .dataframe thead th {\n",
              "        text-align: right;\n",
              "    }\n",
              "</style>\n",
              "<table border=\"1\" class=\"dataframe\">\n",
              "  <thead>\n",
              "    <tr style=\"text-align: right;\">\n",
              "      <th></th>\n",
              "      <th>Ind_ID</th>\n",
              "      <th>GENDER</th>\n",
              "      <th>Car_Owner</th>\n",
              "      <th>Propert_Owner</th>\n",
              "      <th>CHILDREN</th>\n",
              "      <th>Annual_income</th>\n",
              "      <th>Type_Income</th>\n",
              "      <th>EDUCATION</th>\n",
              "      <th>Marital_status</th>\n",
              "      <th>Housing_type</th>\n",
              "      <th>Birthday_count</th>\n",
              "      <th>Employed_days</th>\n",
              "      <th>Mobile_phone</th>\n",
              "      <th>Work_Phone</th>\n",
              "      <th>Phone</th>\n",
              "      <th>EMAIL_ID</th>\n",
              "      <th>Type_Occupation</th>\n",
              "      <th>Family_Members</th>\n",
              "    </tr>\n",
              "  </thead>\n",
              "  <tbody>\n",
              "    <tr>\n",
              "      <th>0</th>\n",
              "      <td>5008827</td>\n",
              "      <td>M</td>\n",
              "      <td>Y</td>\n",
              "      <td>Y</td>\n",
              "      <td>0</td>\n",
              "      <td>180000.0</td>\n",
              "      <td>Pensioner</td>\n",
              "      <td>Higher education</td>\n",
              "      <td>Married</td>\n",
              "      <td>House / apartment</td>\n",
              "      <td>-18772.0</td>\n",
              "      <td>365243</td>\n",
              "      <td>1</td>\n",
              "      <td>0</td>\n",
              "      <td>0</td>\n",
              "      <td>0</td>\n",
              "      <td>NaN</td>\n",
              "      <td>2</td>\n",
              "    </tr>\n",
              "    <tr>\n",
              "      <th>1</th>\n",
              "      <td>5009744</td>\n",
              "      <td>F</td>\n",
              "      <td>Y</td>\n",
              "      <td>N</td>\n",
              "      <td>0</td>\n",
              "      <td>315000.0</td>\n",
              "      <td>Commercial associate</td>\n",
              "      <td>Higher education</td>\n",
              "      <td>Married</td>\n",
              "      <td>House / apartment</td>\n",
              "      <td>-13557.0</td>\n",
              "      <td>-586</td>\n",
              "      <td>1</td>\n",
              "      <td>1</td>\n",
              "      <td>1</td>\n",
              "      <td>0</td>\n",
              "      <td>NaN</td>\n",
              "      <td>2</td>\n",
              "    </tr>\n",
              "    <tr>\n",
              "      <th>2</th>\n",
              "      <td>5009746</td>\n",
              "      <td>F</td>\n",
              "      <td>Y</td>\n",
              "      <td>N</td>\n",
              "      <td>0</td>\n",
              "      <td>315000.0</td>\n",
              "      <td>Commercial associate</td>\n",
              "      <td>Higher education</td>\n",
              "      <td>Married</td>\n",
              "      <td>House / apartment</td>\n",
              "      <td>NaN</td>\n",
              "      <td>-586</td>\n",
              "      <td>1</td>\n",
              "      <td>1</td>\n",
              "      <td>1</td>\n",
              "      <td>0</td>\n",
              "      <td>NaN</td>\n",
              "      <td>2</td>\n",
              "    </tr>\n",
              "    <tr>\n",
              "      <th>3</th>\n",
              "      <td>5009749</td>\n",
              "      <td>F</td>\n",
              "      <td>Y</td>\n",
              "      <td>N</td>\n",
              "      <td>0</td>\n",
              "      <td>NaN</td>\n",
              "      <td>Commercial associate</td>\n",
              "      <td>Higher education</td>\n",
              "      <td>Married</td>\n",
              "      <td>House / apartment</td>\n",
              "      <td>-13557.0</td>\n",
              "      <td>-586</td>\n",
              "      <td>1</td>\n",
              "      <td>1</td>\n",
              "      <td>1</td>\n",
              "      <td>0</td>\n",
              "      <td>NaN</td>\n",
              "      <td>2</td>\n",
              "    </tr>\n",
              "  </tbody>\n",
              "</table>\n",
              "</div>\n",
              "      <button class=\"colab-df-convert\" onclick=\"convertToInteractive('df-4dbf6ca7-211c-443c-aca4-c0f6d151280d')\"\n",
              "              title=\"Convert this dataframe to an interactive table.\"\n",
              "              style=\"display:none;\">\n",
              "        \n",
              "  <svg xmlns=\"http://www.w3.org/2000/svg\" height=\"24px\"viewBox=\"0 0 24 24\"\n",
              "       width=\"24px\">\n",
              "    <path d=\"M0 0h24v24H0V0z\" fill=\"none\"/>\n",
              "    <path d=\"M18.56 5.44l.94 2.06.94-2.06 2.06-.94-2.06-.94-.94-2.06-.94 2.06-2.06.94zm-11 1L8.5 8.5l.94-2.06 2.06-.94-2.06-.94L8.5 2.5l-.94 2.06-2.06.94zm10 10l.94 2.06.94-2.06 2.06-.94-2.06-.94-.94-2.06-.94 2.06-2.06.94z\"/><path d=\"M17.41 7.96l-1.37-1.37c-.4-.4-.92-.59-1.43-.59-.52 0-1.04.2-1.43.59L10.3 9.45l-7.72 7.72c-.78.78-.78 2.05 0 2.83L4 21.41c.39.39.9.59 1.41.59.51 0 1.02-.2 1.41-.59l7.78-7.78 2.81-2.81c.8-.78.8-2.07 0-2.86zM5.41 20L4 18.59l7.72-7.72 1.47 1.35L5.41 20z\"/>\n",
              "  </svg>\n",
              "      </button>\n",
              "      \n",
              "  <style>\n",
              "    .colab-df-container {\n",
              "      display:flex;\n",
              "      flex-wrap:wrap;\n",
              "      gap: 12px;\n",
              "    }\n",
              "\n",
              "    .colab-df-convert {\n",
              "      background-color: #E8F0FE;\n",
              "      border: none;\n",
              "      border-radius: 50%;\n",
              "      cursor: pointer;\n",
              "      display: none;\n",
              "      fill: #1967D2;\n",
              "      height: 32px;\n",
              "      padding: 0 0 0 0;\n",
              "      width: 32px;\n",
              "    }\n",
              "\n",
              "    .colab-df-convert:hover {\n",
              "      background-color: #E2EBFA;\n",
              "      box-shadow: 0px 1px 2px rgba(60, 64, 67, 0.3), 0px 1px 3px 1px rgba(60, 64, 67, 0.15);\n",
              "      fill: #174EA6;\n",
              "    }\n",
              "\n",
              "    [theme=dark] .colab-df-convert {\n",
              "      background-color: #3B4455;\n",
              "      fill: #D2E3FC;\n",
              "    }\n",
              "\n",
              "    [theme=dark] .colab-df-convert:hover {\n",
              "      background-color: #434B5C;\n",
              "      box-shadow: 0px 1px 3px 1px rgba(0, 0, 0, 0.15);\n",
              "      filter: drop-shadow(0px 1px 2px rgba(0, 0, 0, 0.3));\n",
              "      fill: #FFFFFF;\n",
              "    }\n",
              "  </style>\n",
              "\n",
              "      <script>\n",
              "        const buttonEl =\n",
              "          document.querySelector('#df-4dbf6ca7-211c-443c-aca4-c0f6d151280d button.colab-df-convert');\n",
              "        buttonEl.style.display =\n",
              "          google.colab.kernel.accessAllowed ? 'block' : 'none';\n",
              "\n",
              "        async function convertToInteractive(key) {\n",
              "          const element = document.querySelector('#df-4dbf6ca7-211c-443c-aca4-c0f6d151280d');\n",
              "          const dataTable =\n",
              "            await google.colab.kernel.invokeFunction('convertToInteractive',\n",
              "                                                     [key], {});\n",
              "          if (!dataTable) return;\n",
              "\n",
              "          const docLinkHtml = 'Like what you see? Visit the ' +\n",
              "            '<a target=\"_blank\" href=https://colab.research.google.com/notebooks/data_table.ipynb>data table notebook</a>'\n",
              "            + ' to learn more about interactive tables.';\n",
              "          element.innerHTML = '';\n",
              "          dataTable['output_type'] = 'display_data';\n",
              "          await google.colab.output.renderOutput(dataTable, element);\n",
              "          const docLink = document.createElement('div');\n",
              "          docLink.innerHTML = docLinkHtml;\n",
              "          element.appendChild(docLink);\n",
              "        }\n",
              "      </script>\n",
              "    </div>\n",
              "  </div>\n",
              "  "
            ]
          },
          "metadata": {},
          "execution_count": 222
        }
      ]
    },
    {
      "cell_type": "code",
      "source": [
        "data_file_2.head(4)"
      ],
      "metadata": {
        "colab": {
          "base_uri": "https://localhost:8080/",
          "height": 175
        },
        "id": "-OB-coIXd3dE",
        "outputId": "20c18f52-97c6-4088-f106-4dfa18f3cacb"
      },
      "execution_count": 223,
      "outputs": [
        {
          "output_type": "execute_result",
          "data": {
            "text/plain": [
              "    Ind_ID  label\n",
              "0  5008827      1\n",
              "1  5009744      1\n",
              "2  5009746      1\n",
              "3  5009749      1"
            ],
            "text/html": [
              "\n",
              "  <div id=\"df-942d7c0c-c09d-4475-b84b-5a88e7d655b9\">\n",
              "    <div class=\"colab-df-container\">\n",
              "      <div>\n",
              "<style scoped>\n",
              "    .dataframe tbody tr th:only-of-type {\n",
              "        vertical-align: middle;\n",
              "    }\n",
              "\n",
              "    .dataframe tbody tr th {\n",
              "        vertical-align: top;\n",
              "    }\n",
              "\n",
              "    .dataframe thead th {\n",
              "        text-align: right;\n",
              "    }\n",
              "</style>\n",
              "<table border=\"1\" class=\"dataframe\">\n",
              "  <thead>\n",
              "    <tr style=\"text-align: right;\">\n",
              "      <th></th>\n",
              "      <th>Ind_ID</th>\n",
              "      <th>label</th>\n",
              "    </tr>\n",
              "  </thead>\n",
              "  <tbody>\n",
              "    <tr>\n",
              "      <th>0</th>\n",
              "      <td>5008827</td>\n",
              "      <td>1</td>\n",
              "    </tr>\n",
              "    <tr>\n",
              "      <th>1</th>\n",
              "      <td>5009744</td>\n",
              "      <td>1</td>\n",
              "    </tr>\n",
              "    <tr>\n",
              "      <th>2</th>\n",
              "      <td>5009746</td>\n",
              "      <td>1</td>\n",
              "    </tr>\n",
              "    <tr>\n",
              "      <th>3</th>\n",
              "      <td>5009749</td>\n",
              "      <td>1</td>\n",
              "    </tr>\n",
              "  </tbody>\n",
              "</table>\n",
              "</div>\n",
              "      <button class=\"colab-df-convert\" onclick=\"convertToInteractive('df-942d7c0c-c09d-4475-b84b-5a88e7d655b9')\"\n",
              "              title=\"Convert this dataframe to an interactive table.\"\n",
              "              style=\"display:none;\">\n",
              "        \n",
              "  <svg xmlns=\"http://www.w3.org/2000/svg\" height=\"24px\"viewBox=\"0 0 24 24\"\n",
              "       width=\"24px\">\n",
              "    <path d=\"M0 0h24v24H0V0z\" fill=\"none\"/>\n",
              "    <path d=\"M18.56 5.44l.94 2.06.94-2.06 2.06-.94-2.06-.94-.94-2.06-.94 2.06-2.06.94zm-11 1L8.5 8.5l.94-2.06 2.06-.94-2.06-.94L8.5 2.5l-.94 2.06-2.06.94zm10 10l.94 2.06.94-2.06 2.06-.94-2.06-.94-.94-2.06-.94 2.06-2.06.94z\"/><path d=\"M17.41 7.96l-1.37-1.37c-.4-.4-.92-.59-1.43-.59-.52 0-1.04.2-1.43.59L10.3 9.45l-7.72 7.72c-.78.78-.78 2.05 0 2.83L4 21.41c.39.39.9.59 1.41.59.51 0 1.02-.2 1.41-.59l7.78-7.78 2.81-2.81c.8-.78.8-2.07 0-2.86zM5.41 20L4 18.59l7.72-7.72 1.47 1.35L5.41 20z\"/>\n",
              "  </svg>\n",
              "      </button>\n",
              "      \n",
              "  <style>\n",
              "    .colab-df-container {\n",
              "      display:flex;\n",
              "      flex-wrap:wrap;\n",
              "      gap: 12px;\n",
              "    }\n",
              "\n",
              "    .colab-df-convert {\n",
              "      background-color: #E8F0FE;\n",
              "      border: none;\n",
              "      border-radius: 50%;\n",
              "      cursor: pointer;\n",
              "      display: none;\n",
              "      fill: #1967D2;\n",
              "      height: 32px;\n",
              "      padding: 0 0 0 0;\n",
              "      width: 32px;\n",
              "    }\n",
              "\n",
              "    .colab-df-convert:hover {\n",
              "      background-color: #E2EBFA;\n",
              "      box-shadow: 0px 1px 2px rgba(60, 64, 67, 0.3), 0px 1px 3px 1px rgba(60, 64, 67, 0.15);\n",
              "      fill: #174EA6;\n",
              "    }\n",
              "\n",
              "    [theme=dark] .colab-df-convert {\n",
              "      background-color: #3B4455;\n",
              "      fill: #D2E3FC;\n",
              "    }\n",
              "\n",
              "    [theme=dark] .colab-df-convert:hover {\n",
              "      background-color: #434B5C;\n",
              "      box-shadow: 0px 1px 3px 1px rgba(0, 0, 0, 0.15);\n",
              "      filter: drop-shadow(0px 1px 2px rgba(0, 0, 0, 0.3));\n",
              "      fill: #FFFFFF;\n",
              "    }\n",
              "  </style>\n",
              "\n",
              "      <script>\n",
              "        const buttonEl =\n",
              "          document.querySelector('#df-942d7c0c-c09d-4475-b84b-5a88e7d655b9 button.colab-df-convert');\n",
              "        buttonEl.style.display =\n",
              "          google.colab.kernel.accessAllowed ? 'block' : 'none';\n",
              "\n",
              "        async function convertToInteractive(key) {\n",
              "          const element = document.querySelector('#df-942d7c0c-c09d-4475-b84b-5a88e7d655b9');\n",
              "          const dataTable =\n",
              "            await google.colab.kernel.invokeFunction('convertToInteractive',\n",
              "                                                     [key], {});\n",
              "          if (!dataTable) return;\n",
              "\n",
              "          const docLinkHtml = 'Like what you see? Visit the ' +\n",
              "            '<a target=\"_blank\" href=https://colab.research.google.com/notebooks/data_table.ipynb>data table notebook</a>'\n",
              "            + ' to learn more about interactive tables.';\n",
              "          element.innerHTML = '';\n",
              "          dataTable['output_type'] = 'display_data';\n",
              "          await google.colab.output.renderOutput(dataTable, element);\n",
              "          const docLink = document.createElement('div');\n",
              "          docLink.innerHTML = docLinkHtml;\n",
              "          element.appendChild(docLink);\n",
              "        }\n",
              "      </script>\n",
              "    </div>\n",
              "  </div>\n",
              "  "
            ]
          },
          "metadata": {},
          "execution_count": 223
        }
      ]
    },
    {
      "cell_type": "code",
      "source": [
        "data_file_1.tail()"
      ],
      "metadata": {
        "colab": {
          "base_uri": "https://localhost:8080/",
          "height": 392
        },
        "id": "EsV5wAsQd5w8",
        "outputId": "ef835a61-f65a-43db-f8c0-0d65af4b5948"
      },
      "execution_count": 224,
      "outputs": [
        {
          "output_type": "execute_result",
          "data": {
            "text/plain": [
              "       Ind_ID GENDER Car_Owner Propert_Owner  CHILDREN  Annual_income  \\\n",
              "1543  5028645      F         N             Y         0            NaN   \n",
              "1544  5023655      F         N             N         0       225000.0   \n",
              "1545  5115992      M         Y             Y         2       180000.0   \n",
              "1546  5118219      M         Y             N         0       270000.0   \n",
              "1547  5053790      F         Y             Y         0       225000.0   \n",
              "\n",
              "               Type_Income                      EDUCATION  \\\n",
              "1543  Commercial associate               Higher education   \n",
              "1544  Commercial associate              Incomplete higher   \n",
              "1545               Working               Higher education   \n",
              "1546               Working  Secondary / secondary special   \n",
              "1547               Working               Higher education   \n",
              "\n",
              "            Marital_status       Housing_type  Birthday_count  Employed_days  \\\n",
              "1543               Married  House / apartment        -11957.0          -2182   \n",
              "1544  Single / not married  House / apartment        -10229.0          -1209   \n",
              "1545               Married  House / apartment        -13174.0          -2477   \n",
              "1546        Civil marriage  House / apartment        -15292.0           -645   \n",
              "1547               Married  House / apartment        -16601.0          -2859   \n",
              "\n",
              "      Mobile_phone  Work_Phone  Phone  EMAIL_ID Type_Occupation  \\\n",
              "1543             1           0      0         0        Managers   \n",
              "1544             1           0      0         0     Accountants   \n",
              "1545             1           0      0         0        Managers   \n",
              "1546             1           1      1         0         Drivers   \n",
              "1547             1           0      0         0             NaN   \n",
              "\n",
              "      Family_Members  \n",
              "1543               2  \n",
              "1544               1  \n",
              "1545               4  \n",
              "1546               2  \n",
              "1547               2  "
            ],
            "text/html": [
              "\n",
              "  <div id=\"df-013bb160-77fe-4639-9e82-3cc881436637\">\n",
              "    <div class=\"colab-df-container\">\n",
              "      <div>\n",
              "<style scoped>\n",
              "    .dataframe tbody tr th:only-of-type {\n",
              "        vertical-align: middle;\n",
              "    }\n",
              "\n",
              "    .dataframe tbody tr th {\n",
              "        vertical-align: top;\n",
              "    }\n",
              "\n",
              "    .dataframe thead th {\n",
              "        text-align: right;\n",
              "    }\n",
              "</style>\n",
              "<table border=\"1\" class=\"dataframe\">\n",
              "  <thead>\n",
              "    <tr style=\"text-align: right;\">\n",
              "      <th></th>\n",
              "      <th>Ind_ID</th>\n",
              "      <th>GENDER</th>\n",
              "      <th>Car_Owner</th>\n",
              "      <th>Propert_Owner</th>\n",
              "      <th>CHILDREN</th>\n",
              "      <th>Annual_income</th>\n",
              "      <th>Type_Income</th>\n",
              "      <th>EDUCATION</th>\n",
              "      <th>Marital_status</th>\n",
              "      <th>Housing_type</th>\n",
              "      <th>Birthday_count</th>\n",
              "      <th>Employed_days</th>\n",
              "      <th>Mobile_phone</th>\n",
              "      <th>Work_Phone</th>\n",
              "      <th>Phone</th>\n",
              "      <th>EMAIL_ID</th>\n",
              "      <th>Type_Occupation</th>\n",
              "      <th>Family_Members</th>\n",
              "    </tr>\n",
              "  </thead>\n",
              "  <tbody>\n",
              "    <tr>\n",
              "      <th>1543</th>\n",
              "      <td>5028645</td>\n",
              "      <td>F</td>\n",
              "      <td>N</td>\n",
              "      <td>Y</td>\n",
              "      <td>0</td>\n",
              "      <td>NaN</td>\n",
              "      <td>Commercial associate</td>\n",
              "      <td>Higher education</td>\n",
              "      <td>Married</td>\n",
              "      <td>House / apartment</td>\n",
              "      <td>-11957.0</td>\n",
              "      <td>-2182</td>\n",
              "      <td>1</td>\n",
              "      <td>0</td>\n",
              "      <td>0</td>\n",
              "      <td>0</td>\n",
              "      <td>Managers</td>\n",
              "      <td>2</td>\n",
              "    </tr>\n",
              "    <tr>\n",
              "      <th>1544</th>\n",
              "      <td>5023655</td>\n",
              "      <td>F</td>\n",
              "      <td>N</td>\n",
              "      <td>N</td>\n",
              "      <td>0</td>\n",
              "      <td>225000.0</td>\n",
              "      <td>Commercial associate</td>\n",
              "      <td>Incomplete higher</td>\n",
              "      <td>Single / not married</td>\n",
              "      <td>House / apartment</td>\n",
              "      <td>-10229.0</td>\n",
              "      <td>-1209</td>\n",
              "      <td>1</td>\n",
              "      <td>0</td>\n",
              "      <td>0</td>\n",
              "      <td>0</td>\n",
              "      <td>Accountants</td>\n",
              "      <td>1</td>\n",
              "    </tr>\n",
              "    <tr>\n",
              "      <th>1545</th>\n",
              "      <td>5115992</td>\n",
              "      <td>M</td>\n",
              "      <td>Y</td>\n",
              "      <td>Y</td>\n",
              "      <td>2</td>\n",
              "      <td>180000.0</td>\n",
              "      <td>Working</td>\n",
              "      <td>Higher education</td>\n",
              "      <td>Married</td>\n",
              "      <td>House / apartment</td>\n",
              "      <td>-13174.0</td>\n",
              "      <td>-2477</td>\n",
              "      <td>1</td>\n",
              "      <td>0</td>\n",
              "      <td>0</td>\n",
              "      <td>0</td>\n",
              "      <td>Managers</td>\n",
              "      <td>4</td>\n",
              "    </tr>\n",
              "    <tr>\n",
              "      <th>1546</th>\n",
              "      <td>5118219</td>\n",
              "      <td>M</td>\n",
              "      <td>Y</td>\n",
              "      <td>N</td>\n",
              "      <td>0</td>\n",
              "      <td>270000.0</td>\n",
              "      <td>Working</td>\n",
              "      <td>Secondary / secondary special</td>\n",
              "      <td>Civil marriage</td>\n",
              "      <td>House / apartment</td>\n",
              "      <td>-15292.0</td>\n",
              "      <td>-645</td>\n",
              "      <td>1</td>\n",
              "      <td>1</td>\n",
              "      <td>1</td>\n",
              "      <td>0</td>\n",
              "      <td>Drivers</td>\n",
              "      <td>2</td>\n",
              "    </tr>\n",
              "    <tr>\n",
              "      <th>1547</th>\n",
              "      <td>5053790</td>\n",
              "      <td>F</td>\n",
              "      <td>Y</td>\n",
              "      <td>Y</td>\n",
              "      <td>0</td>\n",
              "      <td>225000.0</td>\n",
              "      <td>Working</td>\n",
              "      <td>Higher education</td>\n",
              "      <td>Married</td>\n",
              "      <td>House / apartment</td>\n",
              "      <td>-16601.0</td>\n",
              "      <td>-2859</td>\n",
              "      <td>1</td>\n",
              "      <td>0</td>\n",
              "      <td>0</td>\n",
              "      <td>0</td>\n",
              "      <td>NaN</td>\n",
              "      <td>2</td>\n",
              "    </tr>\n",
              "  </tbody>\n",
              "</table>\n",
              "</div>\n",
              "      <button class=\"colab-df-convert\" onclick=\"convertToInteractive('df-013bb160-77fe-4639-9e82-3cc881436637')\"\n",
              "              title=\"Convert this dataframe to an interactive table.\"\n",
              "              style=\"display:none;\">\n",
              "        \n",
              "  <svg xmlns=\"http://www.w3.org/2000/svg\" height=\"24px\"viewBox=\"0 0 24 24\"\n",
              "       width=\"24px\">\n",
              "    <path d=\"M0 0h24v24H0V0z\" fill=\"none\"/>\n",
              "    <path d=\"M18.56 5.44l.94 2.06.94-2.06 2.06-.94-2.06-.94-.94-2.06-.94 2.06-2.06.94zm-11 1L8.5 8.5l.94-2.06 2.06-.94-2.06-.94L8.5 2.5l-.94 2.06-2.06.94zm10 10l.94 2.06.94-2.06 2.06-.94-2.06-.94-.94-2.06-.94 2.06-2.06.94z\"/><path d=\"M17.41 7.96l-1.37-1.37c-.4-.4-.92-.59-1.43-.59-.52 0-1.04.2-1.43.59L10.3 9.45l-7.72 7.72c-.78.78-.78 2.05 0 2.83L4 21.41c.39.39.9.59 1.41.59.51 0 1.02-.2 1.41-.59l7.78-7.78 2.81-2.81c.8-.78.8-2.07 0-2.86zM5.41 20L4 18.59l7.72-7.72 1.47 1.35L5.41 20z\"/>\n",
              "  </svg>\n",
              "      </button>\n",
              "      \n",
              "  <style>\n",
              "    .colab-df-container {\n",
              "      display:flex;\n",
              "      flex-wrap:wrap;\n",
              "      gap: 12px;\n",
              "    }\n",
              "\n",
              "    .colab-df-convert {\n",
              "      background-color: #E8F0FE;\n",
              "      border: none;\n",
              "      border-radius: 50%;\n",
              "      cursor: pointer;\n",
              "      display: none;\n",
              "      fill: #1967D2;\n",
              "      height: 32px;\n",
              "      padding: 0 0 0 0;\n",
              "      width: 32px;\n",
              "    }\n",
              "\n",
              "    .colab-df-convert:hover {\n",
              "      background-color: #E2EBFA;\n",
              "      box-shadow: 0px 1px 2px rgba(60, 64, 67, 0.3), 0px 1px 3px 1px rgba(60, 64, 67, 0.15);\n",
              "      fill: #174EA6;\n",
              "    }\n",
              "\n",
              "    [theme=dark] .colab-df-convert {\n",
              "      background-color: #3B4455;\n",
              "      fill: #D2E3FC;\n",
              "    }\n",
              "\n",
              "    [theme=dark] .colab-df-convert:hover {\n",
              "      background-color: #434B5C;\n",
              "      box-shadow: 0px 1px 3px 1px rgba(0, 0, 0, 0.15);\n",
              "      filter: drop-shadow(0px 1px 2px rgba(0, 0, 0, 0.3));\n",
              "      fill: #FFFFFF;\n",
              "    }\n",
              "  </style>\n",
              "\n",
              "      <script>\n",
              "        const buttonEl =\n",
              "          document.querySelector('#df-013bb160-77fe-4639-9e82-3cc881436637 button.colab-df-convert');\n",
              "        buttonEl.style.display =\n",
              "          google.colab.kernel.accessAllowed ? 'block' : 'none';\n",
              "\n",
              "        async function convertToInteractive(key) {\n",
              "          const element = document.querySelector('#df-013bb160-77fe-4639-9e82-3cc881436637');\n",
              "          const dataTable =\n",
              "            await google.colab.kernel.invokeFunction('convertToInteractive',\n",
              "                                                     [key], {});\n",
              "          if (!dataTable) return;\n",
              "\n",
              "          const docLinkHtml = 'Like what you see? Visit the ' +\n",
              "            '<a target=\"_blank\" href=https://colab.research.google.com/notebooks/data_table.ipynb>data table notebook</a>'\n",
              "            + ' to learn more about interactive tables.';\n",
              "          element.innerHTML = '';\n",
              "          dataTable['output_type'] = 'display_data';\n",
              "          await google.colab.output.renderOutput(dataTable, element);\n",
              "          const docLink = document.createElement('div');\n",
              "          docLink.innerHTML = docLinkHtml;\n",
              "          element.appendChild(docLink);\n",
              "        }\n",
              "      </script>\n",
              "    </div>\n",
              "  </div>\n",
              "  "
            ]
          },
          "metadata": {},
          "execution_count": 224
        }
      ]
    },
    {
      "cell_type": "code",
      "source": [
        "data_file_2.tail()"
      ],
      "metadata": {
        "colab": {
          "base_uri": "https://localhost:8080/",
          "height": 206
        },
        "id": "A_APFEkod8V6",
        "outputId": "fd4ba6ab-603a-40de-a73c-c0b1abebc2c7"
      },
      "execution_count": 225,
      "outputs": [
        {
          "output_type": "execute_result",
          "data": {
            "text/plain": [
              "       Ind_ID  label\n",
              "1543  5028645      0\n",
              "1544  5023655      0\n",
              "1545  5115992      0\n",
              "1546  5118219      0\n",
              "1547  5053790      0"
            ],
            "text/html": [
              "\n",
              "  <div id=\"df-b6f369f6-4aef-46d1-aaf0-c47ce4edb43f\">\n",
              "    <div class=\"colab-df-container\">\n",
              "      <div>\n",
              "<style scoped>\n",
              "    .dataframe tbody tr th:only-of-type {\n",
              "        vertical-align: middle;\n",
              "    }\n",
              "\n",
              "    .dataframe tbody tr th {\n",
              "        vertical-align: top;\n",
              "    }\n",
              "\n",
              "    .dataframe thead th {\n",
              "        text-align: right;\n",
              "    }\n",
              "</style>\n",
              "<table border=\"1\" class=\"dataframe\">\n",
              "  <thead>\n",
              "    <tr style=\"text-align: right;\">\n",
              "      <th></th>\n",
              "      <th>Ind_ID</th>\n",
              "      <th>label</th>\n",
              "    </tr>\n",
              "  </thead>\n",
              "  <tbody>\n",
              "    <tr>\n",
              "      <th>1543</th>\n",
              "      <td>5028645</td>\n",
              "      <td>0</td>\n",
              "    </tr>\n",
              "    <tr>\n",
              "      <th>1544</th>\n",
              "      <td>5023655</td>\n",
              "      <td>0</td>\n",
              "    </tr>\n",
              "    <tr>\n",
              "      <th>1545</th>\n",
              "      <td>5115992</td>\n",
              "      <td>0</td>\n",
              "    </tr>\n",
              "    <tr>\n",
              "      <th>1546</th>\n",
              "      <td>5118219</td>\n",
              "      <td>0</td>\n",
              "    </tr>\n",
              "    <tr>\n",
              "      <th>1547</th>\n",
              "      <td>5053790</td>\n",
              "      <td>0</td>\n",
              "    </tr>\n",
              "  </tbody>\n",
              "</table>\n",
              "</div>\n",
              "      <button class=\"colab-df-convert\" onclick=\"convertToInteractive('df-b6f369f6-4aef-46d1-aaf0-c47ce4edb43f')\"\n",
              "              title=\"Convert this dataframe to an interactive table.\"\n",
              "              style=\"display:none;\">\n",
              "        \n",
              "  <svg xmlns=\"http://www.w3.org/2000/svg\" height=\"24px\"viewBox=\"0 0 24 24\"\n",
              "       width=\"24px\">\n",
              "    <path d=\"M0 0h24v24H0V0z\" fill=\"none\"/>\n",
              "    <path d=\"M18.56 5.44l.94 2.06.94-2.06 2.06-.94-2.06-.94-.94-2.06-.94 2.06-2.06.94zm-11 1L8.5 8.5l.94-2.06 2.06-.94-2.06-.94L8.5 2.5l-.94 2.06-2.06.94zm10 10l.94 2.06.94-2.06 2.06-.94-2.06-.94-.94-2.06-.94 2.06-2.06.94z\"/><path d=\"M17.41 7.96l-1.37-1.37c-.4-.4-.92-.59-1.43-.59-.52 0-1.04.2-1.43.59L10.3 9.45l-7.72 7.72c-.78.78-.78 2.05 0 2.83L4 21.41c.39.39.9.59 1.41.59.51 0 1.02-.2 1.41-.59l7.78-7.78 2.81-2.81c.8-.78.8-2.07 0-2.86zM5.41 20L4 18.59l7.72-7.72 1.47 1.35L5.41 20z\"/>\n",
              "  </svg>\n",
              "      </button>\n",
              "      \n",
              "  <style>\n",
              "    .colab-df-container {\n",
              "      display:flex;\n",
              "      flex-wrap:wrap;\n",
              "      gap: 12px;\n",
              "    }\n",
              "\n",
              "    .colab-df-convert {\n",
              "      background-color: #E8F0FE;\n",
              "      border: none;\n",
              "      border-radius: 50%;\n",
              "      cursor: pointer;\n",
              "      display: none;\n",
              "      fill: #1967D2;\n",
              "      height: 32px;\n",
              "      padding: 0 0 0 0;\n",
              "      width: 32px;\n",
              "    }\n",
              "\n",
              "    .colab-df-convert:hover {\n",
              "      background-color: #E2EBFA;\n",
              "      box-shadow: 0px 1px 2px rgba(60, 64, 67, 0.3), 0px 1px 3px 1px rgba(60, 64, 67, 0.15);\n",
              "      fill: #174EA6;\n",
              "    }\n",
              "\n",
              "    [theme=dark] .colab-df-convert {\n",
              "      background-color: #3B4455;\n",
              "      fill: #D2E3FC;\n",
              "    }\n",
              "\n",
              "    [theme=dark] .colab-df-convert:hover {\n",
              "      background-color: #434B5C;\n",
              "      box-shadow: 0px 1px 3px 1px rgba(0, 0, 0, 0.15);\n",
              "      filter: drop-shadow(0px 1px 2px rgba(0, 0, 0, 0.3));\n",
              "      fill: #FFFFFF;\n",
              "    }\n",
              "  </style>\n",
              "\n",
              "      <script>\n",
              "        const buttonEl =\n",
              "          document.querySelector('#df-b6f369f6-4aef-46d1-aaf0-c47ce4edb43f button.colab-df-convert');\n",
              "        buttonEl.style.display =\n",
              "          google.colab.kernel.accessAllowed ? 'block' : 'none';\n",
              "\n",
              "        async function convertToInteractive(key) {\n",
              "          const element = document.querySelector('#df-b6f369f6-4aef-46d1-aaf0-c47ce4edb43f');\n",
              "          const dataTable =\n",
              "            await google.colab.kernel.invokeFunction('convertToInteractive',\n",
              "                                                     [key], {});\n",
              "          if (!dataTable) return;\n",
              "\n",
              "          const docLinkHtml = 'Like what you see? Visit the ' +\n",
              "            '<a target=\"_blank\" href=https://colab.research.google.com/notebooks/data_table.ipynb>data table notebook</a>'\n",
              "            + ' to learn more about interactive tables.';\n",
              "          element.innerHTML = '';\n",
              "          dataTable['output_type'] = 'display_data';\n",
              "          await google.colab.output.renderOutput(dataTable, element);\n",
              "          const docLink = document.createElement('div');\n",
              "          docLink.innerHTML = docLinkHtml;\n",
              "          element.appendChild(docLink);\n",
              "        }\n",
              "      </script>\n",
              "    </div>\n",
              "  </div>\n",
              "  "
            ]
          },
          "metadata": {},
          "execution_count": 225
        }
      ]
    },
    {
      "cell_type": "markdown",
      "source": [
        "Here we need to merge both the data files into single dataframe by using the common column(IND_ID)"
      ],
      "metadata": {
        "id": "sILdTjf5eDXX"
      }
    },
    {
      "cell_type": "code",
      "source": [
        "data = pd.merge(data_file_1,data_file_2,on = \"Ind_ID\")"
      ],
      "metadata": {
        "id": "df-UmTFMd-bw"
      },
      "execution_count": 226,
      "outputs": []
    },
    {
      "cell_type": "code",
      "source": [
        "data.head(5)  # To just check wheather label column has been added or not"
      ],
      "metadata": {
        "colab": {
          "base_uri": "https://localhost:8080/",
          "height": 357
        },
        "id": "wNQi3ryZeHzV",
        "outputId": "adbd7f7c-3136-4a99-870b-d6c0e098ee72"
      },
      "execution_count": 227,
      "outputs": [
        {
          "output_type": "execute_result",
          "data": {
            "text/plain": [
              "    Ind_ID GENDER Car_Owner Propert_Owner  CHILDREN  Annual_income  \\\n",
              "0  5008827      M         Y             Y         0       180000.0   \n",
              "1  5009744      F         Y             N         0       315000.0   \n",
              "2  5009746      F         Y             N         0       315000.0   \n",
              "3  5009749      F         Y             N         0            NaN   \n",
              "4  5009752      F         Y             N         0       315000.0   \n",
              "\n",
              "            Type_Income         EDUCATION Marital_status       Housing_type  \\\n",
              "0             Pensioner  Higher education        Married  House / apartment   \n",
              "1  Commercial associate  Higher education        Married  House / apartment   \n",
              "2  Commercial associate  Higher education        Married  House / apartment   \n",
              "3  Commercial associate  Higher education        Married  House / apartment   \n",
              "4  Commercial associate  Higher education        Married  House / apartment   \n",
              "\n",
              "   Birthday_count  Employed_days  Mobile_phone  Work_Phone  Phone  EMAIL_ID  \\\n",
              "0        -18772.0         365243             1           0      0         0   \n",
              "1        -13557.0           -586             1           1      1         0   \n",
              "2             NaN           -586             1           1      1         0   \n",
              "3        -13557.0           -586             1           1      1         0   \n",
              "4        -13557.0           -586             1           1      1         0   \n",
              "\n",
              "  Type_Occupation  Family_Members  label  \n",
              "0             NaN               2      1  \n",
              "1             NaN               2      1  \n",
              "2             NaN               2      1  \n",
              "3             NaN               2      1  \n",
              "4             NaN               2      1  "
            ],
            "text/html": [
              "\n",
              "  <div id=\"df-0a6bac47-e5d2-4fdd-8f7a-add3776fa843\">\n",
              "    <div class=\"colab-df-container\">\n",
              "      <div>\n",
              "<style scoped>\n",
              "    .dataframe tbody tr th:only-of-type {\n",
              "        vertical-align: middle;\n",
              "    }\n",
              "\n",
              "    .dataframe tbody tr th {\n",
              "        vertical-align: top;\n",
              "    }\n",
              "\n",
              "    .dataframe thead th {\n",
              "        text-align: right;\n",
              "    }\n",
              "</style>\n",
              "<table border=\"1\" class=\"dataframe\">\n",
              "  <thead>\n",
              "    <tr style=\"text-align: right;\">\n",
              "      <th></th>\n",
              "      <th>Ind_ID</th>\n",
              "      <th>GENDER</th>\n",
              "      <th>Car_Owner</th>\n",
              "      <th>Propert_Owner</th>\n",
              "      <th>CHILDREN</th>\n",
              "      <th>Annual_income</th>\n",
              "      <th>Type_Income</th>\n",
              "      <th>EDUCATION</th>\n",
              "      <th>Marital_status</th>\n",
              "      <th>Housing_type</th>\n",
              "      <th>Birthday_count</th>\n",
              "      <th>Employed_days</th>\n",
              "      <th>Mobile_phone</th>\n",
              "      <th>Work_Phone</th>\n",
              "      <th>Phone</th>\n",
              "      <th>EMAIL_ID</th>\n",
              "      <th>Type_Occupation</th>\n",
              "      <th>Family_Members</th>\n",
              "      <th>label</th>\n",
              "    </tr>\n",
              "  </thead>\n",
              "  <tbody>\n",
              "    <tr>\n",
              "      <th>0</th>\n",
              "      <td>5008827</td>\n",
              "      <td>M</td>\n",
              "      <td>Y</td>\n",
              "      <td>Y</td>\n",
              "      <td>0</td>\n",
              "      <td>180000.0</td>\n",
              "      <td>Pensioner</td>\n",
              "      <td>Higher education</td>\n",
              "      <td>Married</td>\n",
              "      <td>House / apartment</td>\n",
              "      <td>-18772.0</td>\n",
              "      <td>365243</td>\n",
              "      <td>1</td>\n",
              "      <td>0</td>\n",
              "      <td>0</td>\n",
              "      <td>0</td>\n",
              "      <td>NaN</td>\n",
              "      <td>2</td>\n",
              "      <td>1</td>\n",
              "    </tr>\n",
              "    <tr>\n",
              "      <th>1</th>\n",
              "      <td>5009744</td>\n",
              "      <td>F</td>\n",
              "      <td>Y</td>\n",
              "      <td>N</td>\n",
              "      <td>0</td>\n",
              "      <td>315000.0</td>\n",
              "      <td>Commercial associate</td>\n",
              "      <td>Higher education</td>\n",
              "      <td>Married</td>\n",
              "      <td>House / apartment</td>\n",
              "      <td>-13557.0</td>\n",
              "      <td>-586</td>\n",
              "      <td>1</td>\n",
              "      <td>1</td>\n",
              "      <td>1</td>\n",
              "      <td>0</td>\n",
              "      <td>NaN</td>\n",
              "      <td>2</td>\n",
              "      <td>1</td>\n",
              "    </tr>\n",
              "    <tr>\n",
              "      <th>2</th>\n",
              "      <td>5009746</td>\n",
              "      <td>F</td>\n",
              "      <td>Y</td>\n",
              "      <td>N</td>\n",
              "      <td>0</td>\n",
              "      <td>315000.0</td>\n",
              "      <td>Commercial associate</td>\n",
              "      <td>Higher education</td>\n",
              "      <td>Married</td>\n",
              "      <td>House / apartment</td>\n",
              "      <td>NaN</td>\n",
              "      <td>-586</td>\n",
              "      <td>1</td>\n",
              "      <td>1</td>\n",
              "      <td>1</td>\n",
              "      <td>0</td>\n",
              "      <td>NaN</td>\n",
              "      <td>2</td>\n",
              "      <td>1</td>\n",
              "    </tr>\n",
              "    <tr>\n",
              "      <th>3</th>\n",
              "      <td>5009749</td>\n",
              "      <td>F</td>\n",
              "      <td>Y</td>\n",
              "      <td>N</td>\n",
              "      <td>0</td>\n",
              "      <td>NaN</td>\n",
              "      <td>Commercial associate</td>\n",
              "      <td>Higher education</td>\n",
              "      <td>Married</td>\n",
              "      <td>House / apartment</td>\n",
              "      <td>-13557.0</td>\n",
              "      <td>-586</td>\n",
              "      <td>1</td>\n",
              "      <td>1</td>\n",
              "      <td>1</td>\n",
              "      <td>0</td>\n",
              "      <td>NaN</td>\n",
              "      <td>2</td>\n",
              "      <td>1</td>\n",
              "    </tr>\n",
              "    <tr>\n",
              "      <th>4</th>\n",
              "      <td>5009752</td>\n",
              "      <td>F</td>\n",
              "      <td>Y</td>\n",
              "      <td>N</td>\n",
              "      <td>0</td>\n",
              "      <td>315000.0</td>\n",
              "      <td>Commercial associate</td>\n",
              "      <td>Higher education</td>\n",
              "      <td>Married</td>\n",
              "      <td>House / apartment</td>\n",
              "      <td>-13557.0</td>\n",
              "      <td>-586</td>\n",
              "      <td>1</td>\n",
              "      <td>1</td>\n",
              "      <td>1</td>\n",
              "      <td>0</td>\n",
              "      <td>NaN</td>\n",
              "      <td>2</td>\n",
              "      <td>1</td>\n",
              "    </tr>\n",
              "  </tbody>\n",
              "</table>\n",
              "</div>\n",
              "      <button class=\"colab-df-convert\" onclick=\"convertToInteractive('df-0a6bac47-e5d2-4fdd-8f7a-add3776fa843')\"\n",
              "              title=\"Convert this dataframe to an interactive table.\"\n",
              "              style=\"display:none;\">\n",
              "        \n",
              "  <svg xmlns=\"http://www.w3.org/2000/svg\" height=\"24px\"viewBox=\"0 0 24 24\"\n",
              "       width=\"24px\">\n",
              "    <path d=\"M0 0h24v24H0V0z\" fill=\"none\"/>\n",
              "    <path d=\"M18.56 5.44l.94 2.06.94-2.06 2.06-.94-2.06-.94-.94-2.06-.94 2.06-2.06.94zm-11 1L8.5 8.5l.94-2.06 2.06-.94-2.06-.94L8.5 2.5l-.94 2.06-2.06.94zm10 10l.94 2.06.94-2.06 2.06-.94-2.06-.94-.94-2.06-.94 2.06-2.06.94z\"/><path d=\"M17.41 7.96l-1.37-1.37c-.4-.4-.92-.59-1.43-.59-.52 0-1.04.2-1.43.59L10.3 9.45l-7.72 7.72c-.78.78-.78 2.05 0 2.83L4 21.41c.39.39.9.59 1.41.59.51 0 1.02-.2 1.41-.59l7.78-7.78 2.81-2.81c.8-.78.8-2.07 0-2.86zM5.41 20L4 18.59l7.72-7.72 1.47 1.35L5.41 20z\"/>\n",
              "  </svg>\n",
              "      </button>\n",
              "      \n",
              "  <style>\n",
              "    .colab-df-container {\n",
              "      display:flex;\n",
              "      flex-wrap:wrap;\n",
              "      gap: 12px;\n",
              "    }\n",
              "\n",
              "    .colab-df-convert {\n",
              "      background-color: #E8F0FE;\n",
              "      border: none;\n",
              "      border-radius: 50%;\n",
              "      cursor: pointer;\n",
              "      display: none;\n",
              "      fill: #1967D2;\n",
              "      height: 32px;\n",
              "      padding: 0 0 0 0;\n",
              "      width: 32px;\n",
              "    }\n",
              "\n",
              "    .colab-df-convert:hover {\n",
              "      background-color: #E2EBFA;\n",
              "      box-shadow: 0px 1px 2px rgba(60, 64, 67, 0.3), 0px 1px 3px 1px rgba(60, 64, 67, 0.15);\n",
              "      fill: #174EA6;\n",
              "    }\n",
              "\n",
              "    [theme=dark] .colab-df-convert {\n",
              "      background-color: #3B4455;\n",
              "      fill: #D2E3FC;\n",
              "    }\n",
              "\n",
              "    [theme=dark] .colab-df-convert:hover {\n",
              "      background-color: #434B5C;\n",
              "      box-shadow: 0px 1px 3px 1px rgba(0, 0, 0, 0.15);\n",
              "      filter: drop-shadow(0px 1px 2px rgba(0, 0, 0, 0.3));\n",
              "      fill: #FFFFFF;\n",
              "    }\n",
              "  </style>\n",
              "\n",
              "      <script>\n",
              "        const buttonEl =\n",
              "          document.querySelector('#df-0a6bac47-e5d2-4fdd-8f7a-add3776fa843 button.colab-df-convert');\n",
              "        buttonEl.style.display =\n",
              "          google.colab.kernel.accessAllowed ? 'block' : 'none';\n",
              "\n",
              "        async function convertToInteractive(key) {\n",
              "          const element = document.querySelector('#df-0a6bac47-e5d2-4fdd-8f7a-add3776fa843');\n",
              "          const dataTable =\n",
              "            await google.colab.kernel.invokeFunction('convertToInteractive',\n",
              "                                                     [key], {});\n",
              "          if (!dataTable) return;\n",
              "\n",
              "          const docLinkHtml = 'Like what you see? Visit the ' +\n",
              "            '<a target=\"_blank\" href=https://colab.research.google.com/notebooks/data_table.ipynb>data table notebook</a>'\n",
              "            + ' to learn more about interactive tables.';\n",
              "          element.innerHTML = '';\n",
              "          dataTable['output_type'] = 'display_data';\n",
              "          await google.colab.output.renderOutput(dataTable, element);\n",
              "          const docLink = document.createElement('div');\n",
              "          docLink.innerHTML = docLinkHtml;\n",
              "          element.appendChild(docLink);\n",
              "        }\n",
              "      </script>\n",
              "    </div>\n",
              "  </div>\n",
              "  "
            ]
          },
          "metadata": {},
          "execution_count": 227
        }
      ]
    },
    {
      "cell_type": "code",
      "source": [
        "data.shape"
      ],
      "metadata": {
        "colab": {
          "base_uri": "https://localhost:8080/"
        },
        "id": "I5uzMPoueKxG",
        "outputId": "3be817ca-fa0c-4b90-86bc-43ee926d5341"
      },
      "execution_count": 228,
      "outputs": [
        {
          "output_type": "execute_result",
          "data": {
            "text/plain": [
              "(1548, 19)"
            ]
          },
          "metadata": {},
          "execution_count": 228
        }
      ]
    },
    {
      "cell_type": "code",
      "source": [
        "# we are having 19 columns and 1548 records in the data after combining both the files"
      ],
      "metadata": {
        "id": "5gdw_kQzeN9R"
      },
      "execution_count": 229,
      "outputs": []
    },
    {
      "cell_type": "code",
      "source": [
        "data.info()"
      ],
      "metadata": {
        "colab": {
          "base_uri": "https://localhost:8080/"
        },
        "id": "T15CeJ63eRTn",
        "outputId": "ab09775c-c84d-433a-b7a0-0edeb9b7d324"
      },
      "execution_count": 230,
      "outputs": [
        {
          "output_type": "stream",
          "name": "stdout",
          "text": [
            "<class 'pandas.core.frame.DataFrame'>\n",
            "Int64Index: 1548 entries, 0 to 1547\n",
            "Data columns (total 19 columns):\n",
            " #   Column           Non-Null Count  Dtype  \n",
            "---  ------           --------------  -----  \n",
            " 0   Ind_ID           1548 non-null   int64  \n",
            " 1   GENDER           1541 non-null   object \n",
            " 2   Car_Owner        1548 non-null   object \n",
            " 3   Propert_Owner    1548 non-null   object \n",
            " 4   CHILDREN         1548 non-null   int64  \n",
            " 5   Annual_income    1525 non-null   float64\n",
            " 6   Type_Income      1548 non-null   object \n",
            " 7   EDUCATION        1548 non-null   object \n",
            " 8   Marital_status   1548 non-null   object \n",
            " 9   Housing_type     1548 non-null   object \n",
            " 10  Birthday_count   1526 non-null   float64\n",
            " 11  Employed_days    1548 non-null   int64  \n",
            " 12  Mobile_phone     1548 non-null   int64  \n",
            " 13  Work_Phone       1548 non-null   int64  \n",
            " 14  Phone            1548 non-null   int64  \n",
            " 15  EMAIL_ID         1548 non-null   int64  \n",
            " 16  Type_Occupation  1060 non-null   object \n",
            " 17  Family_Members   1548 non-null   int64  \n",
            " 18  label            1548 non-null   int64  \n",
            "dtypes: float64(2), int64(9), object(8)\n",
            "memory usage: 241.9+ KB\n"
          ]
        }
      ]
    },
    {
      "cell_type": "code",
      "source": [
        "data.describe()  # to know summary statistics of columns with numeric data"
      ],
      "metadata": {
        "colab": {
          "base_uri": "https://localhost:8080/",
          "height": 344
        },
        "id": "jJeEwdUAeUqj",
        "outputId": "a50c435e-81b8-4c2e-f87e-8b299df59426"
      },
      "execution_count": 231,
      "outputs": [
        {
          "output_type": "execute_result",
          "data": {
            "text/plain": [
              "             Ind_ID     CHILDREN  Annual_income  Birthday_count  \\\n",
              "count  1.548000e+03  1548.000000   1.525000e+03     1526.000000   \n",
              "mean   5.078920e+06     0.412791   1.913993e+05   -16040.342071   \n",
              "std    4.171759e+04     0.776691   1.132530e+05     4229.503202   \n",
              "min    5.008827e+06     0.000000   3.375000e+04   -24946.000000   \n",
              "25%    5.045070e+06     0.000000   1.215000e+05   -19553.000000   \n",
              "50%    5.078842e+06     0.000000   1.665000e+05   -15661.500000   \n",
              "75%    5.115673e+06     1.000000   2.250000e+05   -12417.000000   \n",
              "max    5.150412e+06    14.000000   1.575000e+06    -7705.000000   \n",
              "\n",
              "       Employed_days  Mobile_phone   Work_Phone        Phone     EMAIL_ID  \\\n",
              "count    1548.000000        1548.0  1548.000000  1548.000000  1548.000000   \n",
              "mean    59364.689922           1.0     0.208010     0.309432     0.092377   \n",
              "std    137808.062701           0.0     0.406015     0.462409     0.289651   \n",
              "min    -14887.000000           1.0     0.000000     0.000000     0.000000   \n",
              "25%     -3174.500000           1.0     0.000000     0.000000     0.000000   \n",
              "50%     -1565.000000           1.0     0.000000     0.000000     0.000000   \n",
              "75%      -431.750000           1.0     0.000000     1.000000     0.000000   \n",
              "max    365243.000000           1.0     1.000000     1.000000     1.000000   \n",
              "\n",
              "       Family_Members        label  \n",
              "count     1548.000000  1548.000000  \n",
              "mean         2.161499     0.113049  \n",
              "std          0.947772     0.316755  \n",
              "min          1.000000     0.000000  \n",
              "25%          2.000000     0.000000  \n",
              "50%          2.000000     0.000000  \n",
              "75%          3.000000     0.000000  \n",
              "max         15.000000     1.000000  "
            ],
            "text/html": [
              "\n",
              "  <div id=\"df-17ef9ca1-d7a3-4a24-9c4b-991a0cbe930a\">\n",
              "    <div class=\"colab-df-container\">\n",
              "      <div>\n",
              "<style scoped>\n",
              "    .dataframe tbody tr th:only-of-type {\n",
              "        vertical-align: middle;\n",
              "    }\n",
              "\n",
              "    .dataframe tbody tr th {\n",
              "        vertical-align: top;\n",
              "    }\n",
              "\n",
              "    .dataframe thead th {\n",
              "        text-align: right;\n",
              "    }\n",
              "</style>\n",
              "<table border=\"1\" class=\"dataframe\">\n",
              "  <thead>\n",
              "    <tr style=\"text-align: right;\">\n",
              "      <th></th>\n",
              "      <th>Ind_ID</th>\n",
              "      <th>CHILDREN</th>\n",
              "      <th>Annual_income</th>\n",
              "      <th>Birthday_count</th>\n",
              "      <th>Employed_days</th>\n",
              "      <th>Mobile_phone</th>\n",
              "      <th>Work_Phone</th>\n",
              "      <th>Phone</th>\n",
              "      <th>EMAIL_ID</th>\n",
              "      <th>Family_Members</th>\n",
              "      <th>label</th>\n",
              "    </tr>\n",
              "  </thead>\n",
              "  <tbody>\n",
              "    <tr>\n",
              "      <th>count</th>\n",
              "      <td>1.548000e+03</td>\n",
              "      <td>1548.000000</td>\n",
              "      <td>1.525000e+03</td>\n",
              "      <td>1526.000000</td>\n",
              "      <td>1548.000000</td>\n",
              "      <td>1548.0</td>\n",
              "      <td>1548.000000</td>\n",
              "      <td>1548.000000</td>\n",
              "      <td>1548.000000</td>\n",
              "      <td>1548.000000</td>\n",
              "      <td>1548.000000</td>\n",
              "    </tr>\n",
              "    <tr>\n",
              "      <th>mean</th>\n",
              "      <td>5.078920e+06</td>\n",
              "      <td>0.412791</td>\n",
              "      <td>1.913993e+05</td>\n",
              "      <td>-16040.342071</td>\n",
              "      <td>59364.689922</td>\n",
              "      <td>1.0</td>\n",
              "      <td>0.208010</td>\n",
              "      <td>0.309432</td>\n",
              "      <td>0.092377</td>\n",
              "      <td>2.161499</td>\n",
              "      <td>0.113049</td>\n",
              "    </tr>\n",
              "    <tr>\n",
              "      <th>std</th>\n",
              "      <td>4.171759e+04</td>\n",
              "      <td>0.776691</td>\n",
              "      <td>1.132530e+05</td>\n",
              "      <td>4229.503202</td>\n",
              "      <td>137808.062701</td>\n",
              "      <td>0.0</td>\n",
              "      <td>0.406015</td>\n",
              "      <td>0.462409</td>\n",
              "      <td>0.289651</td>\n",
              "      <td>0.947772</td>\n",
              "      <td>0.316755</td>\n",
              "    </tr>\n",
              "    <tr>\n",
              "      <th>min</th>\n",
              "      <td>5.008827e+06</td>\n",
              "      <td>0.000000</td>\n",
              "      <td>3.375000e+04</td>\n",
              "      <td>-24946.000000</td>\n",
              "      <td>-14887.000000</td>\n",
              "      <td>1.0</td>\n",
              "      <td>0.000000</td>\n",
              "      <td>0.000000</td>\n",
              "      <td>0.000000</td>\n",
              "      <td>1.000000</td>\n",
              "      <td>0.000000</td>\n",
              "    </tr>\n",
              "    <tr>\n",
              "      <th>25%</th>\n",
              "      <td>5.045070e+06</td>\n",
              "      <td>0.000000</td>\n",
              "      <td>1.215000e+05</td>\n",
              "      <td>-19553.000000</td>\n",
              "      <td>-3174.500000</td>\n",
              "      <td>1.0</td>\n",
              "      <td>0.000000</td>\n",
              "      <td>0.000000</td>\n",
              "      <td>0.000000</td>\n",
              "      <td>2.000000</td>\n",
              "      <td>0.000000</td>\n",
              "    </tr>\n",
              "    <tr>\n",
              "      <th>50%</th>\n",
              "      <td>5.078842e+06</td>\n",
              "      <td>0.000000</td>\n",
              "      <td>1.665000e+05</td>\n",
              "      <td>-15661.500000</td>\n",
              "      <td>-1565.000000</td>\n",
              "      <td>1.0</td>\n",
              "      <td>0.000000</td>\n",
              "      <td>0.000000</td>\n",
              "      <td>0.000000</td>\n",
              "      <td>2.000000</td>\n",
              "      <td>0.000000</td>\n",
              "    </tr>\n",
              "    <tr>\n",
              "      <th>75%</th>\n",
              "      <td>5.115673e+06</td>\n",
              "      <td>1.000000</td>\n",
              "      <td>2.250000e+05</td>\n",
              "      <td>-12417.000000</td>\n",
              "      <td>-431.750000</td>\n",
              "      <td>1.0</td>\n",
              "      <td>0.000000</td>\n",
              "      <td>1.000000</td>\n",
              "      <td>0.000000</td>\n",
              "      <td>3.000000</td>\n",
              "      <td>0.000000</td>\n",
              "    </tr>\n",
              "    <tr>\n",
              "      <th>max</th>\n",
              "      <td>5.150412e+06</td>\n",
              "      <td>14.000000</td>\n",
              "      <td>1.575000e+06</td>\n",
              "      <td>-7705.000000</td>\n",
              "      <td>365243.000000</td>\n",
              "      <td>1.0</td>\n",
              "      <td>1.000000</td>\n",
              "      <td>1.000000</td>\n",
              "      <td>1.000000</td>\n",
              "      <td>15.000000</td>\n",
              "      <td>1.000000</td>\n",
              "    </tr>\n",
              "  </tbody>\n",
              "</table>\n",
              "</div>\n",
              "      <button class=\"colab-df-convert\" onclick=\"convertToInteractive('df-17ef9ca1-d7a3-4a24-9c4b-991a0cbe930a')\"\n",
              "              title=\"Convert this dataframe to an interactive table.\"\n",
              "              style=\"display:none;\">\n",
              "        \n",
              "  <svg xmlns=\"http://www.w3.org/2000/svg\" height=\"24px\"viewBox=\"0 0 24 24\"\n",
              "       width=\"24px\">\n",
              "    <path d=\"M0 0h24v24H0V0z\" fill=\"none\"/>\n",
              "    <path d=\"M18.56 5.44l.94 2.06.94-2.06 2.06-.94-2.06-.94-.94-2.06-.94 2.06-2.06.94zm-11 1L8.5 8.5l.94-2.06 2.06-.94-2.06-.94L8.5 2.5l-.94 2.06-2.06.94zm10 10l.94 2.06.94-2.06 2.06-.94-2.06-.94-.94-2.06-.94 2.06-2.06.94z\"/><path d=\"M17.41 7.96l-1.37-1.37c-.4-.4-.92-.59-1.43-.59-.52 0-1.04.2-1.43.59L10.3 9.45l-7.72 7.72c-.78.78-.78 2.05 0 2.83L4 21.41c.39.39.9.59 1.41.59.51 0 1.02-.2 1.41-.59l7.78-7.78 2.81-2.81c.8-.78.8-2.07 0-2.86zM5.41 20L4 18.59l7.72-7.72 1.47 1.35L5.41 20z\"/>\n",
              "  </svg>\n",
              "      </button>\n",
              "      \n",
              "  <style>\n",
              "    .colab-df-container {\n",
              "      display:flex;\n",
              "      flex-wrap:wrap;\n",
              "      gap: 12px;\n",
              "    }\n",
              "\n",
              "    .colab-df-convert {\n",
              "      background-color: #E8F0FE;\n",
              "      border: none;\n",
              "      border-radius: 50%;\n",
              "      cursor: pointer;\n",
              "      display: none;\n",
              "      fill: #1967D2;\n",
              "      height: 32px;\n",
              "      padding: 0 0 0 0;\n",
              "      width: 32px;\n",
              "    }\n",
              "\n",
              "    .colab-df-convert:hover {\n",
              "      background-color: #E2EBFA;\n",
              "      box-shadow: 0px 1px 2px rgba(60, 64, 67, 0.3), 0px 1px 3px 1px rgba(60, 64, 67, 0.15);\n",
              "      fill: #174EA6;\n",
              "    }\n",
              "\n",
              "    [theme=dark] .colab-df-convert {\n",
              "      background-color: #3B4455;\n",
              "      fill: #D2E3FC;\n",
              "    }\n",
              "\n",
              "    [theme=dark] .colab-df-convert:hover {\n",
              "      background-color: #434B5C;\n",
              "      box-shadow: 0px 1px 3px 1px rgba(0, 0, 0, 0.15);\n",
              "      filter: drop-shadow(0px 1px 2px rgba(0, 0, 0, 0.3));\n",
              "      fill: #FFFFFF;\n",
              "    }\n",
              "  </style>\n",
              "\n",
              "      <script>\n",
              "        const buttonEl =\n",
              "          document.querySelector('#df-17ef9ca1-d7a3-4a24-9c4b-991a0cbe930a button.colab-df-convert');\n",
              "        buttonEl.style.display =\n",
              "          google.colab.kernel.accessAllowed ? 'block' : 'none';\n",
              "\n",
              "        async function convertToInteractive(key) {\n",
              "          const element = document.querySelector('#df-17ef9ca1-d7a3-4a24-9c4b-991a0cbe930a');\n",
              "          const dataTable =\n",
              "            await google.colab.kernel.invokeFunction('convertToInteractive',\n",
              "                                                     [key], {});\n",
              "          if (!dataTable) return;\n",
              "\n",
              "          const docLinkHtml = 'Like what you see? Visit the ' +\n",
              "            '<a target=\"_blank\" href=https://colab.research.google.com/notebooks/data_table.ipynb>data table notebook</a>'\n",
              "            + ' to learn more about interactive tables.';\n",
              "          element.innerHTML = '';\n",
              "          dataTable['output_type'] = 'display_data';\n",
              "          await google.colab.output.renderOutput(dataTable, element);\n",
              "          const docLink = document.createElement('div');\n",
              "          docLink.innerHTML = docLinkHtml;\n",
              "          element.appendChild(docLink);\n",
              "        }\n",
              "      </script>\n",
              "    </div>\n",
              "  </div>\n",
              "  "
            ]
          },
          "metadata": {},
          "execution_count": 231
        }
      ]
    },
    {
      "cell_type": "code",
      "source": [
        "sns.heatmap(data.isnull(),yticklabels=False,cmap='viridis') # for plotting null values in each column we are using the heatmap"
      ],
      "metadata": {
        "colab": {
          "base_uri": "https://localhost:8080/",
          "height": 361
        },
        "id": "rVKu7rCweYMu",
        "outputId": "9acf7d10-7ca1-492a-ceda-dd57789f0afe"
      },
      "execution_count": 232,
      "outputs": [
        {
          "output_type": "execute_result",
          "data": {
            "text/plain": [
              "<Axes: >"
            ]
          },
          "metadata": {},
          "execution_count": 232
        },
        {
          "output_type": "display_data",
          "data": {
            "text/plain": [
              "<Figure size 432x288 with 2 Axes>"
            ],
            "image/png": "[encoded data removed]"
          },
          "metadata": {
            "needs_background": "light"
          }
        }
      ]
    },
    {
      "cell_type": "markdown",
      "source": [
        "TO KNOW WHAT ARE THE UNIQUE VALUES THAT WE ARE HAVING IN THEIR RESPECTIVE COLUMNS"
      ],
      "metadata": {
        "id": "BEy-oYEbehMF"
      }
    },
    {
      "cell_type": "code",
      "source": [
        "for i in data.columns:\n",
        "    #print(i)\n",
        "    if data[i].dtype==object:\n",
        "        print(data[i].unique())       # CATEGORICAL DATA"
      ],
      "metadata": {
        "colab": {
          "base_uri": "https://localhost:8080/"
        },
        "id": "QJL7ybyyeb4u",
        "outputId": "eb8d2aec-efdd-41a4-b4ba-150d8c5e7317"
      },
      "execution_count": 233,
      "outputs": [
        {
          "output_type": "stream",
          "name": "stdout",
          "text": [
            "['M' 'F' nan]\n",
            "['Y' 'N']\n",
            "['Y' 'N']\n",
            "['Pensioner' 'Commercial associate' 'Working' 'State servant']\n",
            "['Higher education' 'Secondary / secondary special' 'Lower secondary'\n",
            " 'Incomplete higher' 'Academic degree']\n",
            "['Married' 'Single / not married' 'Civil marriage' 'Separated' 'Widow']\n",
            "['House / apartment' 'With parents' 'Rented apartment'\n",
            " 'Municipal apartment' 'Co-op apartment' 'Office apartment']\n",
            "[nan 'Core staff' 'Cooking staff' 'Laborers' 'Sales staff' 'Accountants'\n",
            " 'High skill tech staff' 'Managers' 'Cleaning staff' 'Drivers'\n",
            " 'Low-skill Laborers' 'IT staff' 'Waiters/barmen staff' 'Security staff'\n",
            " 'Medicine staff' 'Private service staff' 'HR staff' 'Secretaries'\n",
            " 'Realty agents']\n"
          ]
        }
      ]
    },
    {
      "cell_type": "code",
      "source": [
        "for i in data.columns:\n",
        "  if data[i].dtype==int:\n",
        "    print(data[i].unique())       # INTEGER DATA"
      ],
      "metadata": {
        "colab": {
          "base_uri": "https://localhost:8080/"
        },
        "id": "mGEqPbnweks3",
        "outputId": "ad1afc5f-e332-4001-d86e-3237da8818f6"
      },
      "execution_count": 234,
      "outputs": [
        {
          "output_type": "stream",
          "name": "stdout",
          "text": [
            "[5008827 5009744 5009746 ... 5115992 5118219 5053790]\n",
            "[ 0  1  2  4  3 14]\n",
            "[365243   -586   -678  -1002   -913   -248  -2470  -1644  -4327  -1674\n",
            "  -1086   -925   -854   -185  -3350   -691  -4770  -2394   -384  -3647\n",
            "  -1546   -808  -1285   -855  -7369  -2269  -4114  -1161  -7288   -166\n",
            "   -866   -564  -3366  -2150  -1458  -8369   -508  -1567   -137  -3974\n",
            "  -1570  -2878   -140  -2576  -1905  -1724  -1328  -4987  -3496  -1394\n",
            "  -1265  -2531  -2105   -860   -217   -535  -6866   -584  -2227  -8161\n",
            "   -613   -606  -6944   -346  -1808  -3420   -863  -7413  -7553  -3931\n",
            "  -1039   -134   -622  -1595  -1626  -1868   -555  -1935   -931   -900\n",
            "  -4305   -499  -2418   -189  -1132  -1770   -919  -1081   -502  -2420\n",
            "  -1325  -6367  -2484   -341  -9422  -3054  -2987  -2128   -820   -141\n",
            "  -1692  -4686   -693   -567   -885  -2769  -1547  -3179  -5204  -3072\n",
            "   -320  -2469   -583   -834  -1085  -1399  -7310  -1748  -2479   -875\n",
            "  -2805  -2477  -1477  -1782   -431  -1416   -263  -2349   -412  -7068\n",
            "  -1787  -1345  -3717  -1048  -2667  -2606  -2135  -1534  -2311  -1323\n",
            "  -5061  -2213  -2152  -4509  -1552  -1569  -1679  -8684  -6337    -97\n",
            "  -1222   -531  -7591  -5639  -1776  -5498  -5880   -460  -4532  -3309\n",
            "  -3873   -344  -1923   -604  -1922  -1496   -708 -12332  -5209  -6273\n",
            "  -2722  -9363   -746  -1322  -3458   -158  -2457  -2811  -7018  -2026\n",
            "   -188  -2967  -3166  -5107  -1649  -3694  -3697  -4596  -5674  -1682\n",
            "   -196   -530  -1696  -2168 -13382  -1509  -1347  -1405   -227  -9975\n",
            "  -1505  -5084  -2905   -356  -1719  -3680   -962  -3000  -4275   -110\n",
            "  -2078  -8377  -4392   -126  -7640  -3153   -139  -4023  -4888 -14887\n",
            "  -3319  -1966   -200  -6123   -117  -2625  -1763  -3689  -3414  -2910\n",
            "  -3412  -1107  -8036  -3608   -101  -3231   -203  -1589  -3577   -735\n",
            "  -8737  -1617  -1591   -979   -422   -655  -3653  -1261  -7346  -5545\n",
            "  -3810  -1190  -3246  -7676  -1353  -3715  -1113   -992  -2289 -12621\n",
            "  -3643   -869  -2174  -5336  -3535  -4407   -453   -960  -4711  -1965\n",
            "  -2543  -1393  -2234  -1631  -1619  -5981  -2682  -3443  -2330   -413\n",
            "  -6645   -505   -201  -3273  -1462  -2609   -521  -1321  -2467   -716\n",
            "  -1632   -614  -1904   -351  -7260   -626  -6853   -458  -1628  -6094\n",
            "   -734   -657  -2700   -880   -157   -135  -1497  -1266   -515  -1023\n",
            "  -2129   -575  -3262   -430  -2207  -1866  -4568   -309   -578  -6908\n",
            "  -1931  -8033  -2257  -3776  -4583  -4404   -727  -3805  -2316  -1455\n",
            "  -5422   -581   -893  -1860  -6317  -1000  -4766  -2259  -1344  -4690\n",
            "  -8290  -2052  -5004   -923  -1193   -793  -5453    -88  -5495   -593\n",
            "  -4816  -1586  -2104  -1032  -9698  -1131  -1175  -8375  -2199  -1912\n",
            "   -926  -2499  -2654  -1174   -230  -2276  -2197  -2468 -11448   -932\n",
            "  -2956   -619  -3787  -1253  -3242   -298   -124  -4082  -1431  -5330\n",
            "  -1017  -1128  -3088  -1466  -1689  -3003  -4039   -588   -282  -4491\n",
            "  -1155  -1220  -1203   -712  -2844  -4031  -3322  -6693  -2760  -2532\n",
            "  -1646 -11542  -5408  -1374  -3092  -2993  -2379  -1281  -7804  -3002\n",
            "   -825  -2057  -1611   -652  -2537  -2331  -4710  -1191  -1162  -3900\n",
            "   -219   -223  -3034  -3329   -235  -3503  -1324  -3112  -2959   -234\n",
            "   -719  -2616  -4410  -1587  -1537  -1430  -1928  -2753   -867  -2134\n",
            "  -3232    -95  -3690  -9870  -4979  -3396   -461  -5206  -3173   -732\n",
            "   -432  -2102  -6583   -156  -5460  -2506  -3397  -3792  -3230  -2464\n",
            "  -3334  -3110  -2966  -2728  -4161  -7494  -4280  -5891  -1350   -609\n",
            "  -2381  -1613  -3533  -6218  -2874  -1654  -2433  -4534   -522   -798\n",
            "  -2620   -145   -663  -2299  -1812  -2589   -130  -5056   -796  -7341\n",
            "  -1130  -5436  -2368  -1889  -1315  -1678  -2939  -1616  -8405  -3476\n",
            "  -3453  -3769  -1359  -2990  -2321  -4267  -1386   -645   -886  -1823\n",
            "  -4965  -3716  -1557  -3761  -1981   -102   -288  -2147  -3929   -424\n",
            "  -1069  -2323  -3332   -553   -375  -6352  -1056  -1172  -4663  -5587\n",
            "  -1406  -8966  -6860  -1463   -561  -3661  -6764 -10600  -3999  -3960\n",
            "  -2065  -1205  -1135  -5190  -3720  -2633  -3272  -2500  -6033   -170\n",
            "   -278  -3062  -8157  -2653  -1953  -5457  -1997  -3435  -1504  -2696\n",
            " -13735   -132  -6621  -2481  -2818 -11906  -1077  -9258  -2277  -2422\n",
            "   -826  -2969  -2086  -1070  -8172   -701  -1384  -9447  -1160  -1952\n",
            "  -1354   -469   -563  -1526  -2092  -1749   -168  -4029  -4967  -3282\n",
            "   -339  -7979  -9683   -577  -2622   -976  -1994  -1563  -4523   -340\n",
            "  -6614  -1639  -3392  -3261  -3928  -5082  -3630  -3591  -1199  -4304\n",
            "  -2514  -2187  -7140    -96  -5176  -6761  -2356  -2908  -3333  -3596\n",
            "  -4606  -4030  -5246  -2906  -1915  -1267  -1256  -1721  -2317  -1518\n",
            "   -864  -7364  -1101  -2231  -1327   -355  -1934  -5179  -2326   -980\n",
            "  -1224  -7048  -2266    -73  -2661   -286  -8044   -523   -978   -795\n",
            "  -2351  -1114  -3760  -5145  -4119  -3641   -481  -4603   -888   -393\n",
            "  -1007 -10688  -2228  -8479  -2180  -1362  -1876  -2265 -11389  -4146\n",
            "  -5500  -5521   -658  -3695   -901  -1751  -3663  -3149  -1375   -183\n",
            "   -500   -489  -2450  -1539  -1556  -7095   -674  -2605  -1999  -4599\n",
            "  -6488  -1054   -745  -3505  -1585  -6904  -2530  -1420   -314  -2441\n",
            " -11884  -4520  -3289  -1495  -3504  -3093  -2417  -2554   -818  -9359\n",
            "  -1508 -10364  -4331  -2296  -2142  -3163  -3961  -2896  -1185  -1670\n",
            "  -3670  -1202  -4936   -596  -6648   -747  -1741  -1615  -1444  -2089\n",
            "   -397  -2592  -1618  -2822  -1600  -2558   -991  -2758  -2988  -2904\n",
            "  -3377  -3902  -3202   -671   -848   -552  -2559  -2361  -3854  -1182\n",
            "  -2384  -8230  -2493  -2362  -4034  -2143  -2393  -2565   -450  -5496\n",
            "  -2319   -191  -3506  -2865  -2339  -2072  -7013  -3008  -2932   -565\n",
            "  -1282  -3154  -1225  -2333  -1869 -11940  -3515  -3291   -407   -444\n",
            "   -226   -279  -1661   -896   -670  -2533  -7400  -3339  -1259   -265\n",
            "  -1870  -2540  -2978   -187   -477  -1436  -1978  -1133  -2985 -10758\n",
            "  -4288    -89  -6930  -1807  -3143  -3850  -4560   -785  -3570   -777\n",
            " -11451   -742  -5950   -464   -385  -2475  -2051  -3607  -2454  -7614\n",
            "  -2796   -642  -4004  -4917  -5622   -313  -1753  -5830  -1677  -3078\n",
            "  -3061   -625  -1381   -308  -5437   -218  -3195  -1198  -1473  -5483\n",
            "   -704 -12870  -5373  -7128  -2255  -5345  -3574   -164  -6226  -6678\n",
            "  -2024   -890  -6075  -1774   -686  -3229  -3455  -5454 -13010  -5507\n",
            "  -6640  -5488   -221   -127  -8760  -7718  -3123  -1652  -6879  -2673\n",
            "   -420  -1072  -5760  -1871  -1707  -1962  -1598  -1583  -7264   -536\n",
            "  -1313  -2512  -5673  -3380  -3944  -3654   -171  -1801  -1138  -1897\n",
            "  -2980  -1581  -6558  -4434   -210  -3032  -2389  -1467   -377 -10762\n",
            "  -2788  -3668  -2340  -9925   -918  -4219   -194  -3010   -370   -232\n",
            "   -285  -1830  -3853  -2866  -1022  -2423  -2545  -6230   -104  -2631\n",
            "   -367   -857  -4887   -433   -803  -3361  -1520  -5155  -5006  -2191\n",
            "  -1064   -828  -4874  -1217  -7557  -5334   -611  -5215   -438   -958\n",
            "  -3095  -2827  -3693  -2262   -195   -109  -5862  -1200  -1891  -4662\n",
            "  -2924  -1648  -3536  -2182  -1209  -2859]\n",
            "[1]\n",
            "[0 1]\n",
            "[0 1]\n",
            "[0 1]\n",
            "[ 2  3  1  4  6  5 15]\n",
            "[1 0]\n"
          ]
        }
      ]
    },
    {
      "cell_type": "code",
      "source": [
        "for i in data.columns:\n",
        "  if data[i].dtype==float:\n",
        "    print(data[i].unique())       # FLOAT DATA"
      ],
      "metadata": {
        "colab": {
          "base_uri": "https://localhost:8080/"
        },
        "id": "gwnvkRWIepNc",
        "outputId": "cc785234-150e-471c-f77b-918b5f8166f5"
      },
      "execution_count": 235,
      "outputs": [
        {
          "output_type": "stream",
          "name": "stdout",
          "text": [
            "[ 180000.   315000.        nan  450000.    90000.   472500.   270000.\n",
            "  126000.   202500.   157500.   112500.   540000.   292500.   135000.\n",
            "   76500.   215100.   225000.    67500.   171000.   103500.    99000.\n",
            "  391500.    65250.    72900.   360000.   256500.   675000.   247500.\n",
            "   85500.   121500.   130500.   211500.    81000.    72000.   148500.\n",
            "  162000.   195750.   585000.   216000.   306000.   108000.    63000.\n",
            "   45000.   337500.   131400.   117000.   445500.   234000.  1575000.\n",
            "  144000.    67050.    73350.   193500.   900000.    94500.   198000.\n",
            "   54000.   166500.   167400.   153000.   423000.   243000.   283500.\n",
            "  252000.   495000.   612000.    36000.   139500.   133650.   427500.\n",
            "  261000.   231750.    90900.    45900.   119250.    58500.   328500.\n",
            "  787500.   594000.   119700.    69372.    37800.   387000.   207000.\n",
            "  189000.   333000.   105750.   382500.   141750.    40500.   405000.\n",
            "   44550.   301500.   351000.   175500.   121900.5  238500.    33750.\n",
            "  116100.   297000.   630000.   418500.    83250.   173250.   274500.\n",
            "  115200.    56250.    95850.   185400.   810000.   184500.   165600.\n",
            "  114750.    47250.    49500.    69750. ]\n",
            "[-18772. -13557.     nan ... -10229. -15292. -16601.]\n"
          ]
        }
      ]
    },
    {
      "cell_type": "code",
      "source": [
        "data.duplicated().sum()"
      ],
      "metadata": {
        "colab": {
          "base_uri": "https://localhost:8080/"
        },
        "id": "s-aNiTwLetmU",
        "outputId": "cc5358dc-3190-45b1-e0fc-49d8d48336f4"
      },
      "execution_count": 236,
      "outputs": [
        {
          "output_type": "execute_result",
          "data": {
            "text/plain": [
              "0"
            ]
          },
          "metadata": {},
          "execution_count": 236
        }
      ]
    },
    {
      "cell_type": "markdown",
      "source": [
        "INITIAL INSIGHTS OF THE DATA AFTER BASIC EXPLORATION ARE LISTED BELOW"
      ],
      "metadata": {
        "id": "T_0l5YBIe2Oe"
      }
    },
    {
      "cell_type": "markdown",
      "source": [
        "1)THERE ARE MANY NULL VALUES PRESENT IN THE DATA ESPECIALLY IN GENDER,ANNUAL INCOME,BIRTHDAY_COUNT,TYPE_OCCUPATION COLUMNS BUT WE ARE HAVING ONLY LIMITED ROWS SO WE NEED TO HANDLE MISSING VALUES INSTEAD OF REMOVING THEM.\n",
        "\n",
        "2)THERE ARE OUTLIERS PRESENT IN CHILDREN,FAMILY_MEMBERS AND BIRTHDAY_COUNT COLUMS SO WE NEED TO HANDLE THEM.\n",
        "\n",
        "3)THE DATA IS HAVING DIFFERENT TYPES OF DATATYPES SICH AS OBJECT AND FLOAT,SO WE NEED TO DO TYPE CASTING AND ENCODING SO THAT WE CAN USE IT FOR OUR ML MODEL.\n",
        "\n",
        "4)WE NEED TO CONVERT THE BIRTHDAY_COUNT AND EMPLOYED DAYS INTO PROPER FORMAT.\n",
        "\n",
        "5) THERE ARE NO DUPLICATE RECORDS PRESENT"
      ],
      "metadata": {
        "id": "sEt1YjWPe1x8"
      }
    },
    {
      "cell_type": "markdown",
      "source": [
        "DATA CLEANING AND FEATURE ENGINEERING"
      ],
      "metadata": {
        "id": "FshwuCepe1n5"
      }
    },
    {
      "cell_type": "code",
      "source": [
        "data.isnull().sum()"
      ],
      "metadata": {
        "colab": {
          "base_uri": "https://localhost:8080/"
        },
        "id": "eokblY7aewQ7",
        "outputId": "2131b24c-2651-4e3b-b127-b073648bc2d8"
      },
      "execution_count": 237,
      "outputs": [
        {
          "output_type": "execute_result",
          "data": {
            "text/plain": [
              "Ind_ID               0\n",
              "GENDER               7\n",
              "Car_Owner            0\n",
              "Propert_Owner        0\n",
              "CHILDREN             0\n",
              "Annual_income       23\n",
              "Type_Income          0\n",
              "EDUCATION            0\n",
              "Marital_status       0\n",
              "Housing_type         0\n",
              "Birthday_count      22\n",
              "Employed_days        0\n",
              "Mobile_phone         0\n",
              "Work_Phone           0\n",
              "Phone                0\n",
              "EMAIL_ID             0\n",
              "Type_Occupation    488\n",
              "Family_Members       0\n",
              "label                0\n",
              "dtype: int64"
            ]
          },
          "metadata": {},
          "execution_count": 237
        }
      ]
    },
    {
      "cell_type": "code",
      "source": [
        "data['GENDER'].value_counts()"
      ],
      "metadata": {
        "colab": {
          "base_uri": "https://localhost:8080/"
        },
        "id": "i4aj65jlfASA",
        "outputId": "581a0139-3333-4c72-cf68-383ecbd48bb5"
      },
      "execution_count": 238,
      "outputs": [
        {
          "output_type": "execute_result",
          "data": {
            "text/plain": [
              "F    973\n",
              "M    568\n",
              "Name: GENDER, dtype: int64"
            ]
          },
          "metadata": {},
          "execution_count": 238
        }
      ]
    },
    {
      "cell_type": "code",
      "source": [
        "# here female is listed significantly more than male and count of nulls in gender are only seven so we will replace them with F"
      ],
      "metadata": {
        "id": "uS4Sf0_pfFrv"
      },
      "execution_count": 239,
      "outputs": []
    },
    {
      "cell_type": "code",
      "source": [
        "data['GENDER'].fillna('F',inplace = True)"
      ],
      "metadata": {
        "id": "FlI6Ekcbfcct"
      },
      "execution_count": 240,
      "outputs": []
    },
    {
      "cell_type": "code",
      "source": [
        "data['Annual_income'].mean()"
      ],
      "metadata": {
        "colab": {
          "base_uri": "https://localhost:8080/"
        },
        "id": "ldyuZGsQfel-",
        "outputId": "0710bc1e-c4bf-405e-e3ed-cff1ee594fff"
      },
      "execution_count": 241,
      "outputs": [
        {
          "output_type": "execute_result",
          "data": {
            "text/plain": [
              "191399.3262295082"
            ]
          },
          "metadata": {},
          "execution_count": 241
        }
      ]
    },
    {
      "cell_type": "code",
      "source": [
        "data['Annual_income'].median()"
      ],
      "metadata": {
        "colab": {
          "base_uri": "https://localhost:8080/"
        },
        "id": "5ANkgLHRfgfC",
        "outputId": "294faf4e-3580-4417-daf1-3c9ef22a153e"
      },
      "execution_count": 242,
      "outputs": [
        {
          "output_type": "execute_result",
          "data": {
            "text/plain": [
              "166500.0"
            ]
          },
          "metadata": {},
          "execution_count": 242
        }
      ]
    },
    {
      "cell_type": "code",
      "source": [
        "data['Annual_income'].mode()"
      ],
      "metadata": {
        "colab": {
          "base_uri": "https://localhost:8080/"
        },
        "id": "5P-A2WOcfjZi",
        "outputId": "f58affea-5816-4682-9adc-18e6c83a1c69"
      },
      "execution_count": 243,
      "outputs": [
        {
          "output_type": "execute_result",
          "data": {
            "text/plain": [
              "0    135000.0\n",
              "Name: Annual_income, dtype: float64"
            ]
          },
          "metadata": {},
          "execution_count": 243
        }
      ]
    },
    {
      "cell_type": "code",
      "source": [
        "# As mean is sensitive to outliers I will replace the null values with median"
      ],
      "metadata": {
        "id": "Qaez7dF8flXu"
      },
      "execution_count": 244,
      "outputs": []
    },
    {
      "cell_type": "code",
      "source": [
        "data['Annual_income'].replace([np.nan,166500],inplace = True)"
      ],
      "metadata": {
        "id": "YnwlECEdfnXy"
      },
      "execution_count": 245,
      "outputs": []
    },
    {
      "cell_type": "code",
      "source": [
        "data['GENDER'].replace('M',0,inplace=True) \n",
        "data['GENDER'].replace('F',1,inplace=True)\n",
        "data['Car_Owner'].replace('Y',0,inplace=True)\n",
        "data['Car_Owner'].replace('N',1,inplace=True)\n",
        "data['Propert_Owner'].replace('Y',0,inplace=True)\n",
        "data['Propert_Owner'].replace('N',1,inplace=True)\n",
        "data.head(4)"
      ],
      "metadata": {
        "colab": {
          "base_uri": "https://localhost:8080/",
          "height": 308
        },
        "id": "jej48XXisgKv",
        "outputId": "ed079d85-87e6-4365-db43-cb7871705e37"
      },
      "execution_count": 246,
      "outputs": [
        {
          "output_type": "execute_result",
          "data": {
            "text/plain": [
              "    Ind_ID  GENDER  Car_Owner  Propert_Owner  CHILDREN  Annual_income  \\\n",
              "0  5008827       0          0              0         0       180000.0   \n",
              "1  5009744       1          0              1         0       315000.0   \n",
              "2  5009746       1          0              1         0       315000.0   \n",
              "3  5009749       1          0              1         0       315000.0   \n",
              "\n",
              "            Type_Income         EDUCATION Marital_status       Housing_type  \\\n",
              "0             Pensioner  Higher education        Married  House / apartment   \n",
              "1  Commercial associate  Higher education        Married  House / apartment   \n",
              "2  Commercial associate  Higher education        Married  House / apartment   \n",
              "3  Commercial associate  Higher education        Married  House / apartment   \n",
              "\n",
              "   Birthday_count  Employed_days  Mobile_phone  Work_Phone  Phone  EMAIL_ID  \\\n",
              "0        -18772.0         365243             1           0      0         0   \n",
              "1        -13557.0           -586             1           1      1         0   \n",
              "2             NaN           -586             1           1      1         0   \n",
              "3        -13557.0           -586             1           1      1         0   \n",
              "\n",
              "  Type_Occupation  Family_Members  label  \n",
              "0             NaN               2      1  \n",
              "1             NaN               2      1  \n",
              "2             NaN               2      1  \n",
              "3             NaN               2      1  "
            ],
            "text/html": [
              "\n",
              "  <div id=\"df-db20d113-9ab1-4d37-a718-43c0f7b9e005\">\n",
              "    <div class=\"colab-df-container\">\n",
              "      <div>\n",
              "<style scoped>\n",
              "    .dataframe tbody tr th:only-of-type {\n",
              "        vertical-align: middle;\n",
              "    }\n",
              "\n",
              "    .dataframe tbody tr th {\n",
              "        vertical-align: top;\n",
              "    }\n",
              "\n",
              "    .dataframe thead th {\n",
              "        text-align: right;\n",
              "    }\n",
              "</style>\n",
              "<table border=\"1\" class=\"dataframe\">\n",
              "  <thead>\n",
              "    <tr style=\"text-align: right;\">\n",
              "      <th></th>\n",
              "      <th>Ind_ID</th>\n",
              "      <th>GENDER</th>\n",
              "      <th>Car_Owner</th>\n",
              "      <th>Propert_Owner</th>\n",
              "      <th>CHILDREN</th>\n",
              "      <th>Annual_income</th>\n",
              "      <th>Type_Income</th>\n",
              "      <th>EDUCATION</th>\n",
              "      <th>Marital_status</th>\n",
              "      <th>Housing_type</th>\n",
              "      <th>Birthday_count</th>\n",
              "      <th>Employed_days</th>\n",
              "      <th>Mobile_phone</th>\n",
              "      <th>Work_Phone</th>\n",
              "      <th>Phone</th>\n",
              "      <th>EMAIL_ID</th>\n",
              "      <th>Type_Occupation</th>\n",
              "      <th>Family_Members</th>\n",
              "      <th>label</th>\n",
              "    </tr>\n",
              "  </thead>\n",
              "  <tbody>\n",
              "    <tr>\n",
              "      <th>0</th>\n",
              "      <td>5008827</td>\n",
              "      <td>0</td>\n",
              "      <td>0</td>\n",
              "      <td>0</td>\n",
              "      <td>0</td>\n",
              "      <td>180000.0</td>\n",
              "      <td>Pensioner</td>\n",
              "      <td>Higher education</td>\n",
              "      <td>Married</td>\n",
              "      <td>House / apartment</td>\n",
              "      <td>-18772.0</td>\n",
              "      <td>365243</td>\n",
              "      <td>1</td>\n",
              "      <td>0</td>\n",
              "      <td>0</td>\n",
              "      <td>0</td>\n",
              "      <td>NaN</td>\n",
              "      <td>2</td>\n",
              "      <td>1</td>\n",
              "    </tr>\n",
              "    <tr>\n",
              "      <th>1</th>\n",
              "      <td>5009744</td>\n",
              "      <td>1</td>\n",
              "      <td>0</td>\n",
              "      <td>1</td>\n",
              "      <td>0</td>\n",
              "      <td>315000.0</td>\n",
              "      <td>Commercial associate</td>\n",
              "      <td>Higher education</td>\n",
              "      <td>Married</td>\n",
              "      <td>House / apartment</td>\n",
              "      <td>-13557.0</td>\n",
              "      <td>-586</td>\n",
              "      <td>1</td>\n",
              "      <td>1</td>\n",
              "      <td>1</td>\n",
              "      <td>0</td>\n",
              "      <td>NaN</td>\n",
              "      <td>2</td>\n",
              "      <td>1</td>\n",
              "    </tr>\n",
              "    <tr>\n",
              "      <th>2</th>\n",
              "      <td>5009746</td>\n",
              "      <td>1</td>\n",
              "      <td>0</td>\n",
              "      <td>1</td>\n",
              "      <td>0</td>\n",
              "      <td>315000.0</td>\n",
              "      <td>Commercial associate</td>\n",
              "      <td>Higher education</td>\n",
              "      <td>Married</td>\n",
              "      <td>House / apartment</td>\n",
              "      <td>NaN</td>\n",
              "      <td>-586</td>\n",
              "      <td>1</td>\n",
              "      <td>1</td>\n",
              "      <td>1</td>\n",
              "      <td>0</td>\n",
              "      <td>NaN</td>\n",
              "      <td>2</td>\n",
              "      <td>1</td>\n",
              "    </tr>\n",
              "    <tr>\n",
              "      <th>3</th>\n",
              "      <td>5009749</td>\n",
              "      <td>1</td>\n",
              "      <td>0</td>\n",
              "      <td>1</td>\n",
              "      <td>0</td>\n",
              "      <td>315000.0</td>\n",
              "      <td>Commercial associate</td>\n",
              "      <td>Higher education</td>\n",
              "      <td>Married</td>\n",
              "      <td>House / apartment</td>\n",
              "      <td>-13557.0</td>\n",
              "      <td>-586</td>\n",
              "      <td>1</td>\n",
              "      <td>1</td>\n",
              "      <td>1</td>\n",
              "      <td>0</td>\n",
              "      <td>NaN</td>\n",
              "      <td>2</td>\n",
              "      <td>1</td>\n",
              "    </tr>\n",
              "  </tbody>\n",
              "</table>\n",
              "</div>\n",
              "      <button class=\"colab-df-convert\" onclick=\"convertToInteractive('df-db20d113-9ab1-4d37-a718-43c0f7b9e005')\"\n",
              "              title=\"Convert this dataframe to an interactive table.\"\n",
              "              style=\"display:none;\">\n",
              "        \n",
              "  <svg xmlns=\"http://www.w3.org/2000/svg\" height=\"24px\"viewBox=\"0 0 24 24\"\n",
              "       width=\"24px\">\n",
              "    <path d=\"M0 0h24v24H0V0z\" fill=\"none\"/>\n",
              "    <path d=\"M18.56 5.44l.94 2.06.94-2.06 2.06-.94-2.06-.94-.94-2.06-.94 2.06-2.06.94zm-11 1L8.5 8.5l.94-2.06 2.06-.94-2.06-.94L8.5 2.5l-.94 2.06-2.06.94zm10 10l.94 2.06.94-2.06 2.06-.94-2.06-.94-.94-2.06-.94 2.06-2.06.94z\"/><path d=\"M17.41 7.96l-1.37-1.37c-.4-.4-.92-.59-1.43-.59-.52 0-1.04.2-1.43.59L10.3 9.45l-7.72 7.72c-.78.78-.78 2.05 0 2.83L4 21.41c.39.39.9.59 1.41.59.51 0 1.02-.2 1.41-.59l7.78-7.78 2.81-2.81c.8-.78.8-2.07 0-2.86zM5.41 20L4 18.59l7.72-7.72 1.47 1.35L5.41 20z\"/>\n",
              "  </svg>\n",
              "      </button>\n",
              "      \n",
              "  <style>\n",
              "    .colab-df-container {\n",
              "      display:flex;\n",
              "      flex-wrap:wrap;\n",
              "      gap: 12px;\n",
              "    }\n",
              "\n",
              "    .colab-df-convert {\n",
              "      background-color: #E8F0FE;\n",
              "      border: none;\n",
              "      border-radius: 50%;\n",
              "      cursor: pointer;\n",
              "      display: none;\n",
              "      fill: #1967D2;\n",
              "      height: 32px;\n",
              "      padding: 0 0 0 0;\n",
              "      width: 32px;\n",
              "    }\n",
              "\n",
              "    .colab-df-convert:hover {\n",
              "      background-color: #E2EBFA;\n",
              "      box-shadow: 0px 1px 2px rgba(60, 64, 67, 0.3), 0px 1px 3px 1px rgba(60, 64, 67, 0.15);\n",
              "      fill: #174EA6;\n",
              "    }\n",
              "\n",
              "    [theme=dark] .colab-df-convert {\n",
              "      background-color: #3B4455;\n",
              "      fill: #D2E3FC;\n",
              "    }\n",
              "\n",
              "    [theme=dark] .colab-df-convert:hover {\n",
              "      background-color: #434B5C;\n",
              "      box-shadow: 0px 1px 3px 1px rgba(0, 0, 0, 0.15);\n",
              "      filter: drop-shadow(0px 1px 2px rgba(0, 0, 0, 0.3));\n",
              "      fill: #FFFFFF;\n",
              "    }\n",
              "  </style>\n",
              "\n",
              "      <script>\n",
              "        const buttonEl =\n",
              "          document.querySelector('#df-db20d113-9ab1-4d37-a718-43c0f7b9e005 button.colab-df-convert');\n",
              "        buttonEl.style.display =\n",
              "          google.colab.kernel.accessAllowed ? 'block' : 'none';\n",
              "\n",
              "        async function convertToInteractive(key) {\n",
              "          const element = document.querySelector('#df-db20d113-9ab1-4d37-a718-43c0f7b9e005');\n",
              "          const dataTable =\n",
              "            await google.colab.kernel.invokeFunction('convertToInteractive',\n",
              "                                                     [key], {});\n",
              "          if (!dataTable) return;\n",
              "\n",
              "          const docLinkHtml = 'Like what you see? Visit the ' +\n",
              "            '<a target=\"_blank\" href=https://colab.research.google.com/notebooks/data_table.ipynb>data table notebook</a>'\n",
              "            + ' to learn more about interactive tables.';\n",
              "          element.innerHTML = '';\n",
              "          dataTable['output_type'] = 'display_data';\n",
              "          await google.colab.output.renderOutput(dataTable, element);\n",
              "          const docLink = document.createElement('div');\n",
              "          docLink.innerHTML = docLinkHtml;\n",
              "          element.appendChild(docLink);\n",
              "        }\n",
              "      </script>\n",
              "    </div>\n",
              "  </div>\n",
              "  "
            ]
          },
          "metadata": {},
          "execution_count": 246
        }
      ]
    },
    {
      "cell_type": "code",
      "source": [
        "data['Age']=-(data['Birthday_count'])//365\n",
        "\n",
        "data['employee_from_years']=-(data['Employed_days'])//365\n",
        "\n",
        "data.drop(columns=('Birthday_count'), inplace=True)\n",
        "\n",
        "data.drop(columns=('Employed_days'), inplace=True)         # feature selection also doing simultaneously\n",
        "data.head(4)"
      ],
      "metadata": {
        "colab": {
          "base_uri": "https://localhost:8080/",
          "height": 308
        },
        "id": "UqiTMM6-fxXA",
        "outputId": "5172d0f5-bbf3-4040-b639-354618f2a94f"
      },
      "execution_count": 247,
      "outputs": [
        {
          "output_type": "execute_result",
          "data": {
            "text/plain": [
              "    Ind_ID  GENDER  Car_Owner  Propert_Owner  CHILDREN  Annual_income  \\\n",
              "0  5008827       0          0              0         0       180000.0   \n",
              "1  5009744       1          0              1         0       315000.0   \n",
              "2  5009746       1          0              1         0       315000.0   \n",
              "3  5009749       1          0              1         0       315000.0   \n",
              "\n",
              "            Type_Income         EDUCATION Marital_status       Housing_type  \\\n",
              "0             Pensioner  Higher education        Married  House / apartment   \n",
              "1  Commercial associate  Higher education        Married  House / apartment   \n",
              "2  Commercial associate  Higher education        Married  House / apartment   \n",
              "3  Commercial associate  Higher education        Married  House / apartment   \n",
              "\n",
              "   Mobile_phone  Work_Phone  Phone  EMAIL_ID Type_Occupation  Family_Members  \\\n",
              "0             1           0      0         0             NaN               2   \n",
              "1             1           1      1         0             NaN               2   \n",
              "2             1           1      1         0             NaN               2   \n",
              "3             1           1      1         0             NaN               2   \n",
              "\n",
              "   label   Age  employee_from_years  \n",
              "0      1  51.0                -1001  \n",
              "1      1  37.0                    1  \n",
              "2      1   NaN                    1  \n",
              "3      1  37.0                    1  "
            ],
            "text/html": [
              "\n",
              "  <div id=\"df-c4ca3c04-4595-4992-a335-2b692ad5ee2a\">\n",
              "    <div class=\"colab-df-container\">\n",
              "      <div>\n",
              "<style scoped>\n",
              "    .dataframe tbody tr th:only-of-type {\n",
              "        vertical-align: middle;\n",
              "    }\n",
              "\n",
              "    .dataframe tbody tr th {\n",
              "        vertical-align: top;\n",
              "    }\n",
              "\n",
              "    .dataframe thead th {\n",
              "        text-align: right;\n",
              "    }\n",
              "</style>\n",
              "<table border=\"1\" class=\"dataframe\">\n",
              "  <thead>\n",
              "    <tr style=\"text-align: right;\">\n",
              "      <th></th>\n",
              "      <th>Ind_ID</th>\n",
              "      <th>GENDER</th>\n",
              "      <th>Car_Owner</th>\n",
              "      <th>Propert_Owner</th>\n",
              "      <th>CHILDREN</th>\n",
              "      <th>Annual_income</th>\n",
              "      <th>Type_Income</th>\n",
              "      <th>EDUCATION</th>\n",
              "      <th>Marital_status</th>\n",
              "      <th>Housing_type</th>\n",
              "      <th>Mobile_phone</th>\n",
              "      <th>Work_Phone</th>\n",
              "      <th>Phone</th>\n",
              "      <th>EMAIL_ID</th>\n",
              "      <th>Type_Occupation</th>\n",
              "      <th>Family_Members</th>\n",
              "      <th>label</th>\n",
              "      <th>Age</th>\n",
              "      <th>employee_from_years</th>\n",
              "    </tr>\n",
              "  </thead>\n",
              "  <tbody>\n",
              "    <tr>\n",
              "      <th>0</th>\n",
              "      <td>5008827</td>\n",
              "      <td>0</td>\n",
              "      <td>0</td>\n",
              "      <td>0</td>\n",
              "      <td>0</td>\n",
              "      <td>180000.0</td>\n",
              "      <td>Pensioner</td>\n",
              "      <td>Higher education</td>\n",
              "      <td>Married</td>\n",
              "      <td>House / apartment</td>\n",
              "      <td>1</td>\n",
              "      <td>0</td>\n",
              "      <td>0</td>\n",
              "      <td>0</td>\n",
              "      <td>NaN</td>\n",
              "      <td>2</td>\n",
              "      <td>1</td>\n",
              "      <td>51.0</td>\n",
              "      <td>-1001</td>\n",
              "    </tr>\n",
              "    <tr>\n",
              "      <th>1</th>\n",
              "      <td>5009744</td>\n",
              "      <td>1</td>\n",
              "      <td>0</td>\n",
              "      <td>1</td>\n",
              "      <td>0</td>\n",
              "      <td>315000.0</td>\n",
              "      <td>Commercial associate</td>\n",
              "      <td>Higher education</td>\n",
              "      <td>Married</td>\n",
              "      <td>House / apartment</td>\n",
              "      <td>1</td>\n",
              "      <td>1</td>\n",
              "      <td>1</td>\n",
              "      <td>0</td>\n",
              "      <td>NaN</td>\n",
              "      <td>2</td>\n",
              "      <td>1</td>\n",
              "      <td>37.0</td>\n",
              "      <td>1</td>\n",
              "    </tr>\n",
              "    <tr>\n",
              "      <th>2</th>\n",
              "      <td>5009746</td>\n",
              "      <td>1</td>\n",
              "      <td>0</td>\n",
              "      <td>1</td>\n",
              "      <td>0</td>\n",
              "      <td>315000.0</td>\n",
              "      <td>Commercial associate</td>\n",
              "      <td>Higher education</td>\n",
              "      <td>Married</td>\n",
              "      <td>House / apartment</td>\n",
              "      <td>1</td>\n",
              "      <td>1</td>\n",
              "      <td>1</td>\n",
              "      <td>0</td>\n",
              "      <td>NaN</td>\n",
              "      <td>2</td>\n",
              "      <td>1</td>\n",
              "      <td>NaN</td>\n",
              "      <td>1</td>\n",
              "    </tr>\n",
              "    <tr>\n",
              "      <th>3</th>\n",
              "      <td>5009749</td>\n",
              "      <td>1</td>\n",
              "      <td>0</td>\n",
              "      <td>1</td>\n",
              "      <td>0</td>\n",
              "      <td>315000.0</td>\n",
              "      <td>Commercial associate</td>\n",
              "      <td>Higher education</td>\n",
              "      <td>Married</td>\n",
              "      <td>House / apartment</td>\n",
              "      <td>1</td>\n",
              "      <td>1</td>\n",
              "      <td>1</td>\n",
              "      <td>0</td>\n",
              "      <td>NaN</td>\n",
              "      <td>2</td>\n",
              "      <td>1</td>\n",
              "      <td>37.0</td>\n",
              "      <td>1</td>\n",
              "    </tr>\n",
              "  </tbody>\n",
              "</table>\n",
              "</div>\n",
              "      <button class=\"colab-df-convert\" onclick=\"convertToInteractive('df-c4ca3c04-4595-4992-a335-2b692ad5ee2a')\"\n",
              "              title=\"Convert this dataframe to an interactive table.\"\n",
              "              style=\"display:none;\">\n",
              "        \n",
              "  <svg xmlns=\"http://www.w3.org/2000/svg\" height=\"24px\"viewBox=\"0 0 24 24\"\n",
              "       width=\"24px\">\n",
              "    <path d=\"M0 0h24v24H0V0z\" fill=\"none\"/>\n",
              "    <path d=\"M18.56 5.44l.94 2.06.94-2.06 2.06-.94-2.06-.94-.94-2.06-.94 2.06-2.06.94zm-11 1L8.5 8.5l.94-2.06 2.06-.94-2.06-.94L8.5 2.5l-.94 2.06-2.06.94zm10 10l.94 2.06.94-2.06 2.06-.94-2.06-.94-.94-2.06-.94 2.06-2.06.94z\"/><path d=\"M17.41 7.96l-1.37-1.37c-.4-.4-.92-.59-1.43-.59-.52 0-1.04.2-1.43.59L10.3 9.45l-7.72 7.72c-.78.78-.78 2.05 0 2.83L4 21.41c.39.39.9.59 1.41.59.51 0 1.02-.2 1.41-.59l7.78-7.78 2.81-2.81c.8-.78.8-2.07 0-2.86zM5.41 20L4 18.59l7.72-7.72 1.47 1.35L5.41 20z\"/>\n",
              "  </svg>\n",
              "      </button>\n",
              "      \n",
              "  <style>\n",
              "    .colab-df-container {\n",
              "      display:flex;\n",
              "      flex-wrap:wrap;\n",
              "      gap: 12px;\n",
              "    }\n",
              "\n",
              "    .colab-df-convert {\n",
              "      background-color: #E8F0FE;\n",
              "      border: none;\n",
              "      border-radius: 50%;\n",
              "      cursor: pointer;\n",
              "      display: none;\n",
              "      fill: #1967D2;\n",
              "      height: 32px;\n",
              "      padding: 0 0 0 0;\n",
              "      width: 32px;\n",
              "    }\n",
              "\n",
              "    .colab-df-convert:hover {\n",
              "      background-color: #E2EBFA;\n",
              "      box-shadow: 0px 1px 2px rgba(60, 64, 67, 0.3), 0px 1px 3px 1px rgba(60, 64, 67, 0.15);\n",
              "      fill: #174EA6;\n",
              "    }\n",
              "\n",
              "    [theme=dark] .colab-df-convert {\n",
              "      background-color: #3B4455;\n",
              "      fill: #D2E3FC;\n",
              "    }\n",
              "\n",
              "    [theme=dark] .colab-df-convert:hover {\n",
              "      background-color: #434B5C;\n",
              "      box-shadow: 0px 1px 3px 1px rgba(0, 0, 0, 0.15);\n",
              "      filter: drop-shadow(0px 1px 2px rgba(0, 0, 0, 0.3));\n",
              "      fill: #FFFFFF;\n",
              "    }\n",
              "  </style>\n",
              "\n",
              "      <script>\n",
              "        const buttonEl =\n",
              "          document.querySelector('#df-c4ca3c04-4595-4992-a335-2b692ad5ee2a button.colab-df-convert');\n",
              "        buttonEl.style.display =\n",
              "          google.colab.kernel.accessAllowed ? 'block' : 'none';\n",
              "\n",
              "        async function convertToInteractive(key) {\n",
              "          const element = document.querySelector('#df-c4ca3c04-4595-4992-a335-2b692ad5ee2a');\n",
              "          const dataTable =\n",
              "            await google.colab.kernel.invokeFunction('convertToInteractive',\n",
              "                                                     [key], {});\n",
              "          if (!dataTable) return;\n",
              "\n",
              "          const docLinkHtml = 'Like what you see? Visit the ' +\n",
              "            '<a target=\"_blank\" href=https://colab.research.google.com/notebooks/data_table.ipynb>data table notebook</a>'\n",
              "            + ' to learn more about interactive tables.';\n",
              "          element.innerHTML = '';\n",
              "          dataTable['output_type'] = 'display_data';\n",
              "          await google.colab.output.renderOutput(dataTable, element);\n",
              "          const docLink = document.createElement('div');\n",
              "          docLink.innerHTML = docLinkHtml;\n",
              "          element.appendChild(docLink);\n",
              "        }\n",
              "      </script>\n",
              "    </div>\n",
              "  </div>\n",
              "  "
            ]
          },
          "metadata": {},
          "execution_count": 247
        }
      ]
    },
    {
      "cell_type": "code",
      "source": [
        "data.Type_Occupation.replace(np.nan,'other',inplace = True)  "
      ],
      "metadata": {
        "id": "WT5QSBu8f6xg"
      },
      "execution_count": 248,
      "outputs": []
    },
    {
      "cell_type": "code",
      "source": [
        "sns.heatmap(data.isnull(),yticklabels=False,cmap='viridis')"
      ],
      "metadata": {
        "colab": {
          "base_uri": "https://localhost:8080/",
          "height": 386
        },
        "id": "KkocHg-zf9T9",
        "outputId": "a3f242ab-9a9f-4ee4-a92e-9a93bd01fbb7"
      },
      "execution_count": 249,
      "outputs": [
        {
          "output_type": "execute_result",
          "data": {
            "text/plain": [
              "<Axes: >"
            ]
          },
          "metadata": {},
          "execution_count": 249
        },
        {
          "output_type": "display_data",
          "data": {
            "text/plain": [
              "<Figure size 432x288 with 2 Axes>"
            ],
            "image/png": "[encoded data removed]"
          },
          "metadata": {
            "needs_background": "light"
          }
        }
      ]
    },
    {
      "cell_type": "code",
      "source": [
        "data['Age'].mean()"
      ],
      "metadata": {
        "colab": {
          "base_uri": "https://localhost:8080/"
        },
        "id": "B4jQFXwjf_am",
        "outputId": "9df4b98d-d88a-4fe9-b442-32a3323c049e"
      },
      "execution_count": 250,
      "outputs": [
        {
          "output_type": "execute_result",
          "data": {
            "text/plain": [
              "43.43971166448231"
            ]
          },
          "metadata": {},
          "execution_count": 250
        }
      ]
    },
    {
      "cell_type": "code",
      "source": [
        "data['Age'].median()"
      ],
      "metadata": {
        "colab": {
          "base_uri": "https://localhost:8080/"
        },
        "id": "Elh9vA6kgEPB",
        "outputId": "8320ba83-1139-4510-d58a-7d9cfea591cb"
      },
      "execution_count": 251,
      "outputs": [
        {
          "output_type": "execute_result",
          "data": {
            "text/plain": [
              "42.0"
            ]
          },
          "metadata": {},
          "execution_count": 251
        }
      ]
    },
    {
      "cell_type": "code",
      "source": [
        "data['Age'].mode()"
      ],
      "metadata": {
        "colab": {
          "base_uri": "https://localhost:8080/"
        },
        "id": "u7PfKB3NgGum",
        "outputId": "35959c1b-4018-4ac6-c0cd-cac6ad0c7f17"
      },
      "execution_count": 252,
      "outputs": [
        {
          "output_type": "execute_result",
          "data": {
            "text/plain": [
              "0    37.0\n",
              "Name: Age, dtype: float64"
            ]
          },
          "metadata": {},
          "execution_count": 252
        }
      ]
    },
    {
      "cell_type": "code",
      "source": [
        "# so replacing null values with median in age column\n",
        "data['Age'].fillna(42,inplace = True)"
      ],
      "metadata": {
        "id": "06rRmPBjgJoZ"
      },
      "execution_count": 253,
      "outputs": []
    },
    {
      "cell_type": "code",
      "source": [
        "data.info()"
      ],
      "metadata": {
        "colab": {
          "base_uri": "https://localhost:8080/"
        },
        "id": "AxkY1l-2hIsW",
        "outputId": "edb7b8c4-0481-4eaf-f198-34530e2c13ef"
      },
      "execution_count": 254,
      "outputs": [
        {
          "output_type": "stream",
          "name": "stdout",
          "text": [
            "<class 'pandas.core.frame.DataFrame'>\n",
            "Int64Index: 1548 entries, 0 to 1547\n",
            "Data columns (total 19 columns):\n",
            " #   Column               Non-Null Count  Dtype  \n",
            "---  ------               --------------  -----  \n",
            " 0   Ind_ID               1548 non-null   int64  \n",
            " 1   GENDER               1548 non-null   int64  \n",
            " 2   Car_Owner            1548 non-null   int64  \n",
            " 3   Propert_Owner        1548 non-null   int64  \n",
            " 4   CHILDREN             1548 non-null   int64  \n",
            " 5   Annual_income        1548 non-null   float64\n",
            " 6   Type_Income          1548 non-null   object \n",
            " 7   EDUCATION            1548 non-null   object \n",
            " 8   Marital_status       1548 non-null   object \n",
            " 9   Housing_type         1548 non-null   object \n",
            " 10  Mobile_phone         1548 non-null   int64  \n",
            " 11  Work_Phone           1548 non-null   int64  \n",
            " 12  Phone                1548 non-null   int64  \n",
            " 13  EMAIL_ID             1548 non-null   int64  \n",
            " 14  Type_Occupation      1548 non-null   object \n",
            " 15  Family_Members       1548 non-null   int64  \n",
            " 16  label                1548 non-null   int64  \n",
            " 17  Age                  1548 non-null   float64\n",
            " 18  employee_from_years  1548 non-null   int64  \n",
            "dtypes: float64(2), int64(12), object(5)\n",
            "memory usage: 241.9+ KB\n"
          ]
        }
      ]
    },
    {
      "cell_type": "code",
      "source": [
        "# FEATURE SELECTION\n",
        "data.drop(columns=['Ind_ID','Mobile_phone','Work_Phone','EMAIL_ID'], inplace=True)\n",
        "data.sample(2)"
      ],
      "metadata": {
        "colab": {
          "base_uri": "https://localhost:8080/",
          "height": 246
        },
        "id": "CA6_JTqOhJVl",
        "outputId": "d4b5c611-a561-4100-e63f-a83f1b1d6897"
      },
      "execution_count": 255,
      "outputs": [
        {
          "output_type": "execute_result",
          "data": {
            "text/plain": [
              "     GENDER  Car_Owner  Propert_Owner  CHILDREN  Annual_income    Type_Income  \\\n",
              "602       0          1              1         0       121500.0  State servant   \n",
              "256       1          0              0         0       225000.0      Pensioner   \n",
              "\n",
              "                         EDUCATION        Marital_status       Housing_type  \\\n",
              "602              Incomplete higher  Single / not married  House / apartment   \n",
              "256  Secondary / secondary special               Married  House / apartment   \n",
              "\n",
              "     Phone Type_Occupation  Family_Members  label   Age  employee_from_years  \n",
              "602      0        Laborers               1      0  24.0                    4  \n",
              "256      0           other               2      0  59.0                -1001  "
            ],
            "text/html": [
              "\n",
              "  <div id=\"df-90a4dd59-4f3c-40d7-8f7b-fc931b4b58e0\">\n",
              "    <div class=\"colab-df-container\">\n",
              "      <div>\n",
              "<style scoped>\n",
              "    .dataframe tbody tr th:only-of-type {\n",
              "        vertical-align: middle;\n",
              "    }\n",
              "\n",
              "    .dataframe tbody tr th {\n",
              "        vertical-align: top;\n",
              "    }\n",
              "\n",
              "    .dataframe thead th {\n",
              "        text-align: right;\n",
              "    }\n",
              "</style>\n",
              "<table border=\"1\" class=\"dataframe\">\n",
              "  <thead>\n",
              "    <tr style=\"text-align: right;\">\n",
              "      <th></th>\n",
              "      <th>GENDER</th>\n",
              "      <th>Car_Owner</th>\n",
              "      <th>Propert_Owner</th>\n",
              "      <th>CHILDREN</th>\n",
              "      <th>Annual_income</th>\n",
              "      <th>Type_Income</th>\n",
              "      <th>EDUCATION</th>\n",
              "      <th>Marital_status</th>\n",
              "      <th>Housing_type</th>\n",
              "      <th>Phone</th>\n",
              "      <th>Type_Occupation</th>\n",
              "      <th>Family_Members</th>\n",
              "      <th>label</th>\n",
              "      <th>Age</th>\n",
              "      <th>employee_from_years</th>\n",
              "    </tr>\n",
              "  </thead>\n",
              "  <tbody>\n",
              "    <tr>\n",
              "      <th>602</th>\n",
              "      <td>0</td>\n",
              "      <td>1</td>\n",
              "      <td>1</td>\n",
              "      <td>0</td>\n",
              "      <td>121500.0</td>\n",
              "      <td>State servant</td>\n",
              "      <td>Incomplete higher</td>\n",
              "      <td>Single / not married</td>\n",
              "      <td>House / apartment</td>\n",
              "      <td>0</td>\n",
              "      <td>Laborers</td>\n",
              "      <td>1</td>\n",
              "      <td>0</td>\n",
              "      <td>24.0</td>\n",
              "      <td>4</td>\n",
              "    </tr>\n",
              "    <tr>\n",
              "      <th>256</th>\n",
              "      <td>1</td>\n",
              "      <td>0</td>\n",
              "      <td>0</td>\n",
              "      <td>0</td>\n",
              "      <td>225000.0</td>\n",
              "      <td>Pensioner</td>\n",
              "      <td>Secondary / secondary special</td>\n",
              "      <td>Married</td>\n",
              "      <td>House / apartment</td>\n",
              "      <td>0</td>\n",
              "      <td>other</td>\n",
              "      <td>2</td>\n",
              "      <td>0</td>\n",
              "      <td>59.0</td>\n",
              "      <td>-1001</td>\n",
              "    </tr>\n",
              "  </tbody>\n",
              "</table>\n",
              "</div>\n",
              "      <button class=\"colab-df-convert\" onclick=\"convertToInteractive('df-90a4dd59-4f3c-40d7-8f7b-fc931b4b58e0')\"\n",
              "              title=\"Convert this dataframe to an interactive table.\"\n",
              "              style=\"display:none;\">\n",
              "        \n",
              "  <svg xmlns=\"http://www.w3.org/2000/svg\" height=\"24px\"viewBox=\"0 0 24 24\"\n",
              "       width=\"24px\">\n",
              "    <path d=\"M0 0h24v24H0V0z\" fill=\"none\"/>\n",
              "    <path d=\"M18.56 5.44l.94 2.06.94-2.06 2.06-.94-2.06-.94-.94-2.06-.94 2.06-2.06.94zm-11 1L8.5 8.5l.94-2.06 2.06-.94-2.06-.94L8.5 2.5l-.94 2.06-2.06.94zm10 10l.94 2.06.94-2.06 2.06-.94-2.06-.94-.94-2.06-.94 2.06-2.06.94z\"/><path d=\"M17.41 7.96l-1.37-1.37c-.4-.4-.92-.59-1.43-.59-.52 0-1.04.2-1.43.59L10.3 9.45l-7.72 7.72c-.78.78-.78 2.05 0 2.83L4 21.41c.39.39.9.59 1.41.59.51 0 1.02-.2 1.41-.59l7.78-7.78 2.81-2.81c.8-.78.8-2.07 0-2.86zM5.41 20L4 18.59l7.72-7.72 1.47 1.35L5.41 20z\"/>\n",
              "  </svg>\n",
              "      </button>\n",
              "      \n",
              "  <style>\n",
              "    .colab-df-container {\n",
              "      display:flex;\n",
              "      flex-wrap:wrap;\n",
              "      gap: 12px;\n",
              "    }\n",
              "\n",
              "    .colab-df-convert {\n",
              "      background-color: #E8F0FE;\n",
              "      border: none;\n",
              "      border-radius: 50%;\n",
              "      cursor: pointer;\n",
              "      display: none;\n",
              "      fill: #1967D2;\n",
              "      height: 32px;\n",
              "      padding: 0 0 0 0;\n",
              "      width: 32px;\n",
              "    }\n",
              "\n",
              "    .colab-df-convert:hover {\n",
              "      background-color: #E2EBFA;\n",
              "      box-shadow: 0px 1px 2px rgba(60, 64, 67, 0.3), 0px 1px 3px 1px rgba(60, 64, 67, 0.15);\n",
              "      fill: #174EA6;\n",
              "    }\n",
              "\n",
              "    [theme=dark] .colab-df-convert {\n",
              "      background-color: #3B4455;\n",
              "      fill: #D2E3FC;\n",
              "    }\n",
              "\n",
              "    [theme=dark] .colab-df-convert:hover {\n",
              "      background-color: #434B5C;\n",
              "      box-shadow: 0px 1px 3px 1px rgba(0, 0, 0, 0.15);\n",
              "      filter: drop-shadow(0px 1px 2px rgba(0, 0, 0, 0.3));\n",
              "      fill: #FFFFFF;\n",
              "    }\n",
              "  </style>\n",
              "\n",
              "      <script>\n",
              "        const buttonEl =\n",
              "          document.querySelector('#df-90a4dd59-4f3c-40d7-8f7b-fc931b4b58e0 button.colab-df-convert');\n",
              "        buttonEl.style.display =\n",
              "          google.colab.kernel.accessAllowed ? 'block' : 'none';\n",
              "\n",
              "        async function convertToInteractive(key) {\n",
              "          const element = document.querySelector('#df-90a4dd59-4f3c-40d7-8f7b-fc931b4b58e0');\n",
              "          const dataTable =\n",
              "            await google.colab.kernel.invokeFunction('convertToInteractive',\n",
              "                                                     [key], {});\n",
              "          if (!dataTable) return;\n",
              "\n",
              "          const docLinkHtml = 'Like what you see? Visit the ' +\n",
              "            '<a target=\"_blank\" href=https://colab.research.google.com/notebooks/data_table.ipynb>data table notebook</a>'\n",
              "            + ' to learn more about interactive tables.';\n",
              "          element.innerHTML = '';\n",
              "          dataTable['output_type'] = 'display_data';\n",
              "          await google.colab.output.renderOutput(dataTable, element);\n",
              "          const docLink = document.createElement('div');\n",
              "          docLink.innerHTML = docLinkHtml;\n",
              "          element.appendChild(docLink);\n",
              "        }\n",
              "      </script>\n",
              "    </div>\n",
              "  </div>\n",
              "  "
            ]
          },
          "metadata": {},
          "execution_count": 255
        }
      ]
    },
    {
      "cell_type": "markdown",
      "source": [
        "DATA VISUALIZATION"
      ],
      "metadata": {
        "id": "lPQ3EhPxhZjl"
      }
    },
    {
      "cell_type": "code",
      "source": [
        "plt.figure(figsize=(10,5))\n",
        "sns.heatmap(data.corr(method='spearman'), annot=True, fmt='.0%')\n",
        "plt.show()   # family members and children column are highly correlated so we can remove any one of them"
      ],
      "metadata": {
        "colab": {
          "base_uri": "https://localhost:8080/",
          "height": 423
        },
        "id": "r70kwTyzhUi2",
        "outputId": "19238222-8106-4135-e06e-0d92b40b3e91"
      },
      "execution_count": 256,
      "outputs": [
        {
          "output_type": "display_data",
          "data": {
            "text/plain": [
              "<Figure size 720x360 with 2 Axes>"
            ],
            "image/png": "[encoded data removed]"
          },
          "metadata": {
            "needs_background": "light"
          }
        }
      ]
    },
    {
      "cell_type": "code",
      "source": [
        "data.hist(figsize=(20, 10))\n",
        "plt.show()"
      ],
      "metadata": {
        "colab": {
          "base_uri": "https://localhost:8080/",
          "height": 607
        },
        "id": "pGws_pn0hc45",
        "outputId": "db3c7923-bafb-4cd2-87bc-bf199f77e980"
      },
      "execution_count": 257,
      "outputs": [
        {
          "output_type": "display_data",
          "data": {
            "text/plain": [
              "<Figure size 1440x720 with 12 Axes>"
            ],
            "image/png": "[encoded data removed]"
          },
          "metadata": {
            "needs_background": "light"
          }
        }
      ]
    },
    {
      "cell_type": "code",
      "source": [
        "# Show horizontal box plots of each column in the dataframe\n",
        "data.plot(kind='box', subplots=True, layout=(12,3), sharex=False, sharey=False, figsize=(20, 40))\n",
        "plt.show()"
      ],
      "metadata": {
        "colab": {
          "base_uri": "https://localhost:8080/",
          "height": 753
        },
        "id": "M3aOIE85hx-M",
        "outputId": "cc62a827-1b3d-4638-9be3-9ae7c754780f"
      },
      "execution_count": 258,
      "outputs": [
        {
          "output_type": "display_data",
          "data": {
            "text/plain": [
              "<Figure size 1440x2880 with 36 Axes>"
            ],
            "image/png": "[encoded data removed]"
          },
          "metadata": {
            "needs_background": "light"
          }
        }
      ]
    },
    {
      "cell_type": "code",
      "source": [
        "msno.bar(data)"
      ],
      "metadata": {
        "colab": {
          "base_uri": "https://localhost:8080/",
          "height": 659
        },
        "id": "aGqMEIgau8S0",
        "outputId": "7b90dd72-6e67-4f06-a537-41f1f9c22374"
      },
      "execution_count": 269,
      "outputs": [
        {
          "output_type": "execute_result",
          "data": {
            "text/plain": [
              "<Axes: >"
            ]
          },
          "metadata": {},
          "execution_count": 269
        },
        {
          "output_type": "display_data",
          "data": {
            "text/plain": [
              "<Figure size 1800x720 with 3 Axes>"
            ],
            "image/png": "[encoded data removed]"
          },
          "metadata": {
            "needs_background": "light"
          }
        }
      ]
    },
    {
      "cell_type": "code",
      "source": [
        "data['CHILDREN'].replace(to_replace=14,value=0,inplace = True)"
      ],
      "metadata": {
        "id": "qzQUgEuXiKoP"
      },
      "execution_count": 259,
      "outputs": []
    },
    {
      "cell_type": "code",
      "source": [
        "data['CHILDREN'].value_counts()"
      ],
      "metadata": {
        "colab": {
          "base_uri": "https://localhost:8080/"
        },
        "id": "Qq33qsxpiY_P",
        "outputId": "a4ee45b7-5701-48c5-bd6d-f7688597af56"
      },
      "execution_count": 260,
      "outputs": [
        {
          "output_type": "execute_result",
          "data": {
            "text/plain": [
              "0    1092\n",
              "1     305\n",
              "2     134\n",
              "3      16\n",
              "4       1\n",
              "Name: CHILDREN, dtype: int64"
            ]
          },
          "metadata": {},
          "execution_count": 260
        }
      ]
    },
    {
      "cell_type": "code",
      "source": [
        "# one hot encoding\n",
        "def one_hot_encode(data, columns):\n",
        "    for col in columns:\n",
        "        one_hot = pd.get_dummies(data[col], drop_first=True)\n",
        "        data = pd.concat([data, one_hot], axis=1)\n",
        "        data = data.drop([col], axis=1)\n",
        "    return data\n",
        "\n",
        "categories=['Type_Income','EDUCATION','Marital_status','Housing_type','Type_Occupation']\n",
        "final_data = one_hot_encode(data,categories)\n",
        "final_data.head(5)"
      ],
      "metadata": {
        "id": "wHl5NDZvtis1",
        "colab": {
          "base_uri": "https://localhost:8080/",
          "height": 334
        },
        "outputId": "68c80b73-12fa-4a72-f44c-7a1568a53590"
      },
      "execution_count": 261,
      "outputs": [
        {
          "output_type": "execute_result",
          "data": {
            "text/plain": [
              "   GENDER  Car_Owner  Propert_Owner  CHILDREN  Annual_income  Phone  \\\n",
              "0       0          0              0         0       180000.0      0   \n",
              "1       1          0              1         0       315000.0      1   \n",
              "2       1          0              1         0       315000.0      1   \n",
              "3       1          0              1         0       315000.0      1   \n",
              "4       1          0              1         0       315000.0      1   \n",
              "\n",
              "   Family_Members  label   Age  employee_from_years  ...  Low-skill Laborers  \\\n",
              "0               2      1  51.0                -1001  ...                   0   \n",
              "1               2      1  37.0                    1  ...                   0   \n",
              "2               2      1  42.0                    1  ...                   0   \n",
              "3               2      1  37.0                    1  ...                   0   \n",
              "4               2      1  37.0                    1  ...                   0   \n",
              "\n",
              "   Managers  Medicine staff  Private service staff  Realty agents  \\\n",
              "0         0               0                      0              0   \n",
              "1         0               0                      0              0   \n",
              "2         0               0                      0              0   \n",
              "3         0               0                      0              0   \n",
              "4         0               0                      0              0   \n",
              "\n",
              "   Sales staff  Secretaries  Security staff  Waiters/barmen staff  other  \n",
              "0            0            0               0                     0      1  \n",
              "1            0            0               0                     0      1  \n",
              "2            0            0               0                     0      1  \n",
              "3            0            0               0                     0      1  \n",
              "4            0            0               0                     0      1  \n",
              "\n",
              "[5 rows x 44 columns]"
            ],
            "text/html": [
              "\n",
              "  <div id=\"df-3bde8e84-db85-4e18-978e-ae16d41e9415\">\n",
              "    <div class=\"colab-df-container\">\n",
              "      <div>\n",
              "<style scoped>\n",
              "    .dataframe tbody tr th:only-of-type {\n",
              "        vertical-align: middle;\n",
              "    }\n",
              "\n",
              "    .dataframe tbody tr th {\n",
              "        vertical-align: top;\n",
              "    }\n",
              "\n",
              "    .dataframe thead th {\n",
              "        text-align: right;\n",
              "    }\n",
              "</style>\n",
              "<table border=\"1\" class=\"dataframe\">\n",
              "  <thead>\n",
              "    <tr style=\"text-align: right;\">\n",
              "      <th></th>\n",
              "      <th>GENDER</th>\n",
              "      <th>Car_Owner</th>\n",
              "      <th>Propert_Owner</th>\n",
              "      <th>CHILDREN</th>\n",
              "      <th>Annual_income</th>\n",
              "      <th>Phone</th>\n",
              "      <th>Family_Members</th>\n",
              "      <th>label</th>\n",
              "      <th>Age</th>\n",
              "      <th>employee_from_years</th>\n",
              "      <th>...</th>\n",
              "      <th>Low-skill Laborers</th>\n",
              "      <th>Managers</th>\n",
              "      <th>Medicine staff</th>\n",
              "      <th>Private service staff</th>\n",
              "      <th>Realty agents</th>\n",
              "      <th>Sales staff</th>\n",
              "      <th>Secretaries</th>\n",
              "      <th>Security staff</th>\n",
              "      <th>Waiters/barmen staff</th>\n",
              "      <th>other</th>\n",
              "    </tr>\n",
              "  </thead>\n",
              "  <tbody>\n",
              "    <tr>\n",
              "      <th>0</th>\n",
              "      <td>0</td>\n",
              "      <td>0</td>\n",
              "      <td>0</td>\n",
              "      <td>0</td>\n",
              "      <td>180000.0</td>\n",
              "      <td>0</td>\n",
              "      <td>2</td>\n",
              "      <td>1</td>\n",
              "      <td>51.0</td>\n",
              "      <td>-1001</td>\n",
              "      <td>...</td>\n",
              "      <td>0</td>\n",
              "      <td>0</td>\n",
              "      <td>0</td>\n",
              "      <td>0</td>\n",
              "      <td>0</td>\n",
              "      <td>0</td>\n",
              "      <td>0</td>\n",
              "      <td>0</td>\n",
              "      <td>0</td>\n",
              "      <td>1</td>\n",
              "    </tr>\n",
              "    <tr>\n",
              "      <th>1</th>\n",
              "      <td>1</td>\n",
              "      <td>0</td>\n",
              "      <td>1</td>\n",
              "      <td>0</td>\n",
              "      <td>315000.0</td>\n",
              "      <td>1</td>\n",
              "      <td>2</td>\n",
              "      <td>1</td>\n",
              "      <td>37.0</td>\n",
              "      <td>1</td>\n",
              "      <td>...</td>\n",
              "      <td>0</td>\n",
              "      <td>0</td>\n",
              "      <td>0</td>\n",
              "      <td>0</td>\n",
              "      <td>0</td>\n",
              "      <td>0</td>\n",
              "      <td>0</td>\n",
              "      <td>0</td>\n",
              "      <td>0</td>\n",
              "      <td>1</td>\n",
              "    </tr>\n",
              "    <tr>\n",
              "      <th>2</th>\n",
              "      <td>1</td>\n",
              "      <td>0</td>\n",
              "      <td>1</td>\n",
              "      <td>0</td>\n",
              "      <td>315000.0</td>\n",
              "      <td>1</td>\n",
              "      <td>2</td>\n",
              "      <td>1</td>\n",
              "      <td>42.0</td>\n",
              "      <td>1</td>\n",
              "      <td>...</td>\n",
              "      <td>0</td>\n",
              "      <td>0</td>\n",
              "      <td>0</td>\n",
              "      <td>0</td>\n",
              "      <td>0</td>\n",
              "      <td>0</td>\n",
              "      <td>0</td>\n",
              "      <td>0</td>\n",
              "      <td>0</td>\n",
              "      <td>1</td>\n",
              "    </tr>\n",
              "    <tr>\n",
              "      <th>3</th>\n",
              "      <td>1</td>\n",
              "      <td>0</td>\n",
              "      <td>1</td>\n",
              "      <td>0</td>\n",
              "      <td>315000.0</td>\n",
              "      <td>1</td>\n",
              "      <td>2</td>\n",
              "      <td>1</td>\n",
              "      <td>37.0</td>\n",
              "      <td>1</td>\n",
              "      <td>...</td>\n",
              "      <td>0</td>\n",
              "      <td>0</td>\n",
              "      <td>0</td>\n",
              "      <td>0</td>\n",
              "      <td>0</td>\n",
              "      <td>0</td>\n",
              "      <td>0</td>\n",
              "      <td>0</td>\n",
              "      <td>0</td>\n",
              "      <td>1</td>\n",
              "    </tr>\n",
              "    <tr>\n",
              "      <th>4</th>\n",
              "      <td>1</td>\n",
              "      <td>0</td>\n",
              "      <td>1</td>\n",
              "      <td>0</td>\n",
              "      <td>315000.0</td>\n",
              "      <td>1</td>\n",
              "      <td>2</td>\n",
              "      <td>1</td>\n",
              "      <td>37.0</td>\n",
              "      <td>1</td>\n",
              "      <td>...</td>\n",
              "      <td>0</td>\n",
              "      <td>0</td>\n",
              "      <td>0</td>\n",
              "      <td>0</td>\n",
              "      <td>0</td>\n",
              "      <td>0</td>\n",
              "      <td>0</td>\n",
              "      <td>0</td>\n",
              "      <td>0</td>\n",
              "      <td>1</td>\n",
              "    </tr>\n",
              "  </tbody>\n",
              "</table>\n",
              "<p>5 rows × 44 columns</p>\n",
              "</div>\n",
              "      <button class=\"colab-df-convert\" onclick=\"convertToInteractive('df-3bde8e84-db85-4e18-978e-ae16d41e9415')\"\n",
              "              title=\"Convert this dataframe to an interactive table.\"\n",
              "              style=\"display:none;\">\n",
              "        \n",
              "  <svg xmlns=\"http://www.w3.org/2000/svg\" height=\"24px\"viewBox=\"0 0 24 24\"\n",
              "       width=\"24px\">\n",
              "    <path d=\"M0 0h24v24H0V0z\" fill=\"none\"/>\n",
              "    <path d=\"M18.56 5.44l.94 2.06.94-2.06 2.06-.94-2.06-.94-.94-2.06-.94 2.06-2.06.94zm-11 1L8.5 8.5l.94-2.06 2.06-.94-2.06-.94L8.5 2.5l-.94 2.06-2.06.94zm10 10l.94 2.06.94-2.06 2.06-.94-2.06-.94-.94-2.06-.94 2.06-2.06.94z\"/><path d=\"M17.41 7.96l-1.37-1.37c-.4-.4-.92-.59-1.43-.59-.52 0-1.04.2-1.43.59L10.3 9.45l-7.72 7.72c-.78.78-.78 2.05 0 2.83L4 21.41c.39.39.9.59 1.41.59.51 0 1.02-.2 1.41-.59l7.78-7.78 2.81-2.81c.8-.78.8-2.07 0-2.86zM5.41 20L4 18.59l7.72-7.72 1.47 1.35L5.41 20z\"/>\n",
              "  </svg>\n",
              "      </button>\n",
              "      \n",
              "  <style>\n",
              "    .colab-df-container {\n",
              "      display:flex;\n",
              "      flex-wrap:wrap;\n",
              "      gap: 12px;\n",
              "    }\n",
              "\n",
              "    .colab-df-convert {\n",
              "      background-color: #E8F0FE;\n",
              "      border: none;\n",
              "      border-radius: 50%;\n",
              "      cursor: pointer;\n",
              "      display: none;\n",
              "      fill: #1967D2;\n",
              "      height: 32px;\n",
              "      padding: 0 0 0 0;\n",
              "      width: 32px;\n",
              "    }\n",
              "\n",
              "    .colab-df-convert:hover {\n",
              "      background-color: #E2EBFA;\n",
              "      box-shadow: 0px 1px 2px rgba(60, 64, 67, 0.3), 0px 1px 3px 1px rgba(60, 64, 67, 0.15);\n",
              "      fill: #174EA6;\n",
              "    }\n",
              "\n",
              "    [theme=dark] .colab-df-convert {\n",
              "      background-color: #3B4455;\n",
              "      fill: #D2E3FC;\n",
              "    }\n",
              "\n",
              "    [theme=dark] .colab-df-convert:hover {\n",
              "      background-color: #434B5C;\n",
              "      box-shadow: 0px 1px 3px 1px rgba(0, 0, 0, 0.15);\n",
              "      filter: drop-shadow(0px 1px 2px rgba(0, 0, 0, 0.3));\n",
              "      fill: #FFFFFF;\n",
              "    }\n",
              "  </style>\n",
              "\n",
              "      <script>\n",
              "        const buttonEl =\n",
              "          document.querySelector('#df-3bde8e84-db85-4e18-978e-ae16d41e9415 button.colab-df-convert');\n",
              "        buttonEl.style.display =\n",
              "          google.colab.kernel.accessAllowed ? 'block' : 'none';\n",
              "\n",
              "        async function convertToInteractive(key) {\n",
              "          const element = document.querySelector('#df-3bde8e84-db85-4e18-978e-ae16d41e9415');\n",
              "          const dataTable =\n",
              "            await google.colab.kernel.invokeFunction('convertToInteractive',\n",
              "                                                     [key], {});\n",
              "          if (!dataTable) return;\n",
              "\n",
              "          const docLinkHtml = 'Like what you see? Visit the ' +\n",
              "            '<a target=\"_blank\" href=https://colab.research.google.com/notebooks/data_table.ipynb>data table notebook</a>'\n",
              "            + ' to learn more about interactive tables.';\n",
              "          element.innerHTML = '';\n",
              "          dataTable['output_type'] = 'display_data';\n",
              "          await google.colab.output.renderOutput(dataTable, element);\n",
              "          const docLink = document.createElement('div');\n",
              "          docLink.innerHTML = docLinkHtml;\n",
              "          element.appendChild(docLink);\n",
              "        }\n",
              "      </script>\n",
              "    </div>\n",
              "  </div>\n",
              "  "
            ]
          },
          "metadata": {},
          "execution_count": 261
        }
      ]
    },
    {
      "cell_type": "code",
      "source": [
        "# train test_split\n",
        "\n",
        "X = final_data.drop(columns=('label'),axis=1)\n",
        "y = final_data.label\n",
        "from sklearn.model_selection import train_test_split\n",
        "X_train,X_test,y_train,y_test = train_test_split(X,y,test_size=0.2,random_state=2)\n",
        "print('X_train :', X_train.shape)\n",
        "print('X_test :', X_test.shape)\n",
        "print('y_train :', y_train.shape)\n",
        "print('y_test :', y_test.shape)"
      ],
      "metadata": {
        "colab": {
          "base_uri": "https://localhost:8080/"
        },
        "id": "WSxjEBbtt3RW",
        "outputId": "96d5be21-8a43-4003-c8f3-a699504a7f5c"
      },
      "execution_count": 262,
      "outputs": [
        {
          "output_type": "stream",
          "name": "stdout",
          "text": [
            "X_train : (1238, 43)\n",
            "X_test : (310, 43)\n",
            "y_train : (1238,)\n",
            "y_test : (310,)\n"
          ]
        }
      ]
    },
    {
      "cell_type": "code",
      "source": [
        "from sklearn.linear_model import LogisticRegression\n",
        "from sklearn.metrics import accuracy_score, confusion_matrix\n",
        "from sklearn.tree import DecisionTreeClassifier"
      ],
      "metadata": {
        "id": "lXrb-PiKuDJk"
      },
      "execution_count": 263,
      "outputs": []
    },
    {
      "cell_type": "code",
      "source": [
        "# LOGISTIC REGRESSION\n",
        "\n",
        "LR = LogisticRegression()\n",
        "LR.fit(X_train,y_train)\n",
        "y_pred = LR.predict(X_test)\n",
        "print('Accuracy is : ',accuracy_score(y_test, y_pred))"
      ],
      "metadata": {
        "colab": {
          "base_uri": "https://localhost:8080/"
        },
        "id": "YRu7FxF4uGP5",
        "outputId": "f3b35461-1420-4a90-aa65-90fc91fd0d93"
      },
      "execution_count": 268,
      "outputs": [
        {
          "output_type": "stream",
          "name": "stdout",
          "text": [
            "Accuracy is :  0.9129032258064517\n"
          ]
        }
      ]
    },
    {
      "cell_type": "code",
      "source": [
        "# DECISION TREE\n",
        "DTC = DecisionTreeClassifier(max_depth=42,\n",
        "                                min_samples_split=8,\n",
        "                                random_state=1024)\n",
        "DTC.fit(X_train, y_train)\n",
        "y_predict = DTC.predict(X_test)\n",
        "\n",
        "print('Accuracy is : ',accuracy_score(y_test, y_pred))"
      ],
      "metadata": {
        "colab": {
          "base_uri": "https://localhost:8080/"
        },
        "id": "006tZvCIuJz1",
        "outputId": "b1d89d11-51b1-4ea6-b78d-59a18bd0fdc0"
      },
      "execution_count": 270,
      "outputs": [
        {
          "output_type": "stream",
          "name": "stdout",
          "text": [
            "Accuracy is :  0.9129032258064517\n"
          ]
        }
      ]
    },
    {
      "cell_type": "code",
      "source": [
        "from sklearn.ensemble import RandomForestClassifier\n",
        "RFC = RandomForestClassifier(n_estimators=250,\n",
        "                              max_depth=12,\n",
        "                              min_samples_leaf=16\n",
        "                              )\n",
        "RFC.fit(X_train, y_train)\n",
        "y_predict = RFC.predict(X_test)\n",
        "\n",
        "print('Accuracy Score is {:.5}'.format(accuracy_score(y_test, y_predict)))\n",
        "confusion_matrix(y_test,y_predict)"
      ],
      "metadata": {
        "colab": {
          "base_uri": "https://localhost:8080/"
        },
        "id": "ltRrTeSPuM04",
        "outputId": "c4f32d8c-7d7a-4b86-f3f3-84357c25b33d"
      },
      "execution_count": 271,
      "outputs": [
        {
          "output_type": "stream",
          "name": "stdout",
          "text": [
            "Accuracy Score is 0.9129\n"
          ]
        },
        {
          "output_type": "execute_result",
          "data": {
            "text/plain": [
              "array([[283,   0],\n",
              "       [ 27,   0]])"
            ]
          },
          "metadata": {},
          "execution_count": 271
        }
      ]
    },
    {
      "cell_type": "code",
      "source": [
        "from xgboost import XGBClassifier\n",
        "XG = XGBClassifier(max_depth=12,\n",
        "                      n_estimators=250,\n",
        "                      min_child_weight=8, \n",
        "                      subsample=0.8, \n",
        "                      learning_rate =0.02,    \n",
        "                      seed=42)\n",
        "\n",
        "XG.fit(X_train, y_train)\n",
        "y_predict = XG.predict(X_test)\n",
        "print('Accuracy Score is {:.5}'.format(accuracy_score(y_test, y_predict)))\n",
        "confusion_matrix(y_test,y_predict)"
      ],
      "metadata": {
        "colab": {
          "base_uri": "https://localhost:8080/"
        },
        "id": "kJTly6WnuPi9",
        "outputId": "51d9252f-6dac-4193-caa3-4350abf93d19"
      },
      "execution_count": 272,
      "outputs": [
        {
          "output_type": "stream",
          "name": "stdout",
          "text": [
            "Accuracy Score is 0.9129\n"
          ]
        },
        {
          "output_type": "execute_result",
          "data": {
            "text/plain": [
              "array([[283,   0],\n",
              "       [ 27,   0]])"
            ]
          },
          "metadata": {},
          "execution_count": 272
        }
      ]
    },
    {
      "cell_type": "code",
      "source": [
        "from sklearn.ensemble import ExtraTreesClassifier\n",
        "model = ExtraTreesClassifier()\n",
        "model.fit(X,y)\n",
        "print(model.feature_importances_) #use inbuilt class\n",
        "feat_importances = pd.Series(model.feature_importances_, index=X.columns)\n",
        "feat_importances.nlargest(10).plot(kind='barh')\n",
        "plt.show()"
      ],
      "metadata": {
        "colab": {
          "base_uri": "https://localhost:8080/",
          "height": 456
        },
        "id": "uloS7I18uTG9",
        "outputId": "123d4bcd-b8f2-4fb3-c14f-c2a0eb3dd001"
      },
      "execution_count": 273,
      "outputs": [
        {
          "output_type": "stream",
          "name": "stdout",
          "text": [
            "[3.14438785e-02 4.18473571e-02 4.05415729e-02 4.06262303e-02\n",
            " 1.61047561e-01 3.99344615e-02 5.05346162e-02 1.58693644e-01\n",
            " 9.79225123e-02 1.29328758e-02 7.42600885e-03 2.56952323e-02\n",
            " 1.87149200e-02 6.01869281e-03 6.83601930e-03 2.08300655e-02\n",
            " 1.98579480e-02 1.33179378e-02 1.46434478e-02 9.09184202e-03\n",
            " 1.36194625e-02 1.34250220e-02 2.45500144e-03 4.18951256e-03\n",
            " 6.32399642e-03 3.18558445e-03 5.20975968e-03 1.69208014e-02\n",
            " 8.63819197e-03 1.05745663e-04 8.73818010e-03 1.06647826e-02\n",
            " 1.94910298e-02 4.50901706e-03 1.35446379e-02 5.46330619e-03\n",
            " 9.17993659e-04 1.17585585e-04 9.02477395e-03 2.71635381e-04\n",
            " 1.15414011e-02 2.86045216e-03 2.08253024e-02]\n"
          ]
        },
        {
          "output_type": "display_data",
          "data": {
            "text/plain": [
              "<Figure size 432x288 with 1 Axes>"
            ],
            "image/png": "[encoded data removed]"
          },
          "metadata": {
            "needs_background": "light"
          }
        }
      ]
    },
    {
      "cell_type": "markdown",
      "source": [
        "WE CAN CLEARLY SAY THAT EMPLOYEES EXPERIENCE ,AGE AND ANNUAL INCOME ARE THE MOST IMPORTANT FEATURES IN OUR DATA AND WE CAN CONCLUDE THAT THESE ARE THE TOP 3 IMPORTANT FEATURES IN OUR FEATURE SELECTION TECHNIQUE"
      ],
      "metadata": {
        "id": "fs18fnKxxVw3"
      }
    },
    {
      "cell_type": "markdown",
      "source": [
        "CONCLUSION :"
      ],
      "metadata": {
        "id": "-3aIeMKdxyjD"
      }
    },
    {
      "cell_type": "markdown",
      "source": [
        "I BUILT A MACHINE LEARNING BASED CLASSIFIER THAT PREDICTS IF A CREDIT CARD WILL GET APPROVED OR NOT,BASED ON THE INFORMATION PROVIDED IN THE APPLICATION\n",
        "\n",
        "WHILE BUILDING THIS CREDITCARD APPROVAL PREDICTOR I USED VARIOUS PRE PROCESSING STEPS LIKE FEATURE (ENGINEERING,SELECTION),HANDLING MISSING VALUES AND OUTLIERS,DEALING WITH CATEGORICAL FEATURES ETC.\n",
        "\n",
        "I USED VARIOUS PYTHON LIBRARIES WHICH ARE VERY HELPFULL WHEN DEALING WITH DATA \n",
        "AND BY BEST I GOT AN ACCURACY OF 91 PERCENT."
      ],
      "metadata": {
        "id": "0GOHhBD9yKSY"
      }
    },
    {
      "cell_type": "code",
      "source": [
        "final_data.to_csv(\"credit_card_data.csv\",index=False)"
      ],
      "metadata": {
        "id": "JB85PS4bzM2j"
      },
      "execution_count": 275,
      "outputs": []
    },
    {
      "cell_type": "code",
      "source": [],
      "metadata": {
        "id": "K6GXMxIB0Toq"
      },
      "execution_count": null,
      "outputs": []
    }
  ]
}